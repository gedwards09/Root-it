{
  "nbformat": 4,
  "nbformat_minor": 0,
  "metadata": {
    "colab": {
      "name": "Probability of buying given click for classes.ipynb",
      "provenance": [],
      "collapsed_sections": []
    },
    "kernelspec": {
      "name": "python3",
      "display_name": "Python 3"
    },
    "language_info": {
      "name": "python"
    }
  },
  "cells": [
    {
      "cell_type": "code",
      "metadata": {
        "id": "yCNzvJrmwG5X"
      },
      "source": [
        "import pandas as pd\n",
        "import numpy as np\n",
        "import matplotlib.pyplot as plt\n",
        "\n",
        "import seaborn as sns"
      ],
      "execution_count": null,
      "outputs": []
    },
    {
      "cell_type": "code",
      "metadata": {
        "id": "GXU2XOzGwvCl"
      },
      "source": [
        "data = pd.read_csv('/content/Root_Insurance_data.csv')"
      ],
      "execution_count": null,
      "outputs": []
    },
    {
      "cell_type": "markdown",
      "metadata": {
        "id": "H0OYnyLY6UfH"
      },
      "source": [
        "In this notebook, we'll try to find probability of customer buying policies given they click our ad for each class.  "
      ]
    },
    {
      "cell_type": "markdown",
      "metadata": {
        "id": "veWZbRs-8XrE"
      },
      "source": [
        " ## Buy given click"
      ]
    },
    {
      "cell_type": "markdown",
      "metadata": {
        "id": "_hCU1m5v6tIt"
      },
      "source": [
        "We clean the data and get columns we need and transform categorical variables into dummy variables."
      ]
    },
    {
      "cell_type": "code",
      "metadata": {
        "id": "x07low3mqsS3"
      },
      "source": [
        "xdf = data[[\"click\",\"policies_sold\"]].copy()\n",
        "xdf[[\"insured\",\"unknown\"]] = pd.get_dummies(data[\"Currently Insured\"])[[\"Y\",\"unknown\"]]\n",
        "xdf[[\"cars2\",\"cars3\"]] = pd.get_dummies(data[\"Number of Vehicles\"])[[2,3]]\n",
        "xdf[[\"drivers2\"]] = pd.get_dummies(data[\"Number of Drivers\"])[[1]]\n",
        "xdf[[\"married\"]] = pd.get_dummies(data[\"Marital Status\"])[[\"M\"]]\n",
        "# xdf[[\"rank1\",\"rank2\",\"rank3\",\"rank4\",\"rank5\"]] = pd.get_dummies(data[\"rank\"])"
      ],
      "execution_count": null,
      "outputs": []
    },
    {
      "cell_type": "markdown",
      "metadata": {
        "id": "YAKfrTVq7ZJk"
      },
      "source": [
        "# logistic regression"
      ]
    },
    {
      "cell_type": "markdown",
      "metadata": {
        "id": "OZ5gbH0f69d6"
      },
      "source": [
        "We tried firstly logistic regression and get results as follows."
      ]
    },
    {
      "cell_type": "code",
      "metadata": {
        "id": "OBIDF4h7q3SK"
      },
      "source": [
        "from sklearn.preprocessing import PolynomialFeatures\n",
        "poly = PolynomialFeatures(2, interaction_only=True, include_bias=False)\n",
        "poly_features = poly.fit_transform(xdf.drop(columns=[\"click\",\"policies_sold\"]))\n",
        "poly_features = pd.DataFrame(poly_features, columns=poly.get_feature_names(xdf.columns[2:]))\n",
        "poly_features.drop(columns=['insured unknown','cars2 cars3'], inplace=True)\n"
      ],
      "execution_count": null,
      "outputs": []
    },
    {
      "cell_type": "code",
      "metadata": {
        "colab": {
          "base_uri": "https://localhost:8080/"
        },
        "id": "l2hsZcaGtLwM",
        "outputId": "b9449154-4449-4d8f-b05e-b2da46a8c6b3"
      },
      "source": [
        "import statsmodels.api as sm\n",
        "\n",
        "glm = sm.Logit(xdf[\"policies_sold\"].loc[xdf.click],\n",
        "  sm.add_constant(poly_features.loc[xdf.click])).fit()\n",
        "print(glm.summary())"
      ],
      "execution_count": null,
      "outputs": [
        {
          "output_type": "stream",
          "text": [
            "Optimization terminated successfully.\n",
            "         Current function value: 0.664257\n",
            "         Iterations 5\n",
            "                           Logit Regression Results                           \n",
            "==============================================================================\n",
            "Dep. Variable:          policies_sold   No. Observations:                 1878\n",
            "Model:                          Logit   Df Residuals:                     1858\n",
            "Method:                           MLE   Df Model:                           19\n",
            "Date:                Wed, 19 May 2021   Pseudo R-squ.:                 0.02212\n",
            "Time:                        22:49:01   Log-Likelihood:                -1247.5\n",
            "converged:                       True   LL-Null:                       -1275.7\n",
            "Covariance Type:            nonrobust   LLR p-value:                 1.396e-05\n",
            "====================================================================================\n",
            "                       coef    std err          z      P>|z|      [0.025      0.975]\n",
            "------------------------------------------------------------------------------------\n",
            "const               -0.3876      0.191     -2.026      0.043      -0.763      -0.013\n",
            "insured             -0.2762      0.265     -1.043      0.297      -0.795       0.243\n",
            "unknown              0.1926      0.226      0.851      0.395      -0.251       0.636\n",
            "cars2               -0.1182      0.282     -0.420      0.675      -0.670       0.434\n",
            "cars3               -0.0687      0.368     -0.187      0.852      -0.789       0.652\n",
            "drivers2             0.4808      0.249      1.931      0.053      -0.007       0.969\n",
            "married              0.2190      0.232      0.945      0.345      -0.235       0.673\n",
            "insured cars2       -0.1100      0.385     -0.285      0.775      -0.865       0.645\n",
            "insured cars3       -0.5996      0.426     -1.408      0.159      -1.434       0.235\n",
            "insured drivers2    -0.0573      0.310     -0.185      0.853      -0.664       0.550\n",
            "insured married     -0.3968      0.303     -1.308      0.191      -0.991       0.198\n",
            "unknown cars2       -0.3227      0.287     -1.124      0.261      -0.885       0.240\n",
            "unknown cars3       -0.2935      0.339     -0.867      0.386      -0.957       0.370\n",
            "unknown drivers2    -0.0718      0.255     -0.282      0.778      -0.571       0.428\n",
            "unknown married     -0.1069      0.249     -0.430      0.668      -0.595       0.381\n",
            "cars2 drivers2      -0.0984      0.226     -0.436      0.663      -0.541       0.344\n",
            "cars2 married       -0.0074      0.224     -0.033      0.974      -0.446       0.431\n",
            "cars3 drivers2      -0.3977      0.295     -1.348      0.178      -0.976       0.180\n",
            "cars3 married        0.1419      0.297      0.478      0.633      -0.440       0.724\n",
            "drivers2 married    -0.1247      0.204     -0.611      0.541      -0.525       0.275\n",
            "====================================================================================\n"
          ],
          "name": "stdout"
        }
      ]
    },
    {
      "cell_type": "code",
      "metadata": {
        "colab": {
          "base_uri": "https://localhost:8080/"
        },
        "id": "RSDUIlaHtzfa",
        "outputId": "da35c10a-8c0e-43a1-ed42-6d4812bbfda2"
      },
      "source": [
        "poly_features.sum(axis=0)"
      ],
      "execution_count": null,
      "outputs": [
        {
          "output_type": "execute_result",
          "data": {
            "text/plain": [
              "insured             3419.0\n",
              "unknown             3137.0\n",
              "cars2               3464.0\n",
              "cars3               3095.0\n",
              "drivers2            5001.0\n",
              "married             5191.0\n",
              "insured unknown        0.0\n",
              "insured cars2       1171.0\n",
              "insured cars3       1107.0\n",
              "insured drivers2    1675.0\n",
              "insured married     1740.0\n",
              "unknown cars2       1146.0\n",
              "unknown cars3        820.0\n",
              "unknown drivers2    1669.0\n",
              "unknown married     1726.0\n",
              "cars2 cars3            0.0\n",
              "cars2 drivers2      1637.0\n",
              "cars2 married       1734.0\n",
              "cars3 drivers2      1655.0\n",
              "cars3 married       1725.0\n",
              "drivers2 married    2529.0\n",
              "dtype: float64"
            ]
          },
          "metadata": {
            "tags": []
          },
          "execution_count": 35
        }
      ]
    },
    {
      "cell_type": "markdown",
      "metadata": {
        "id": "AbBSvsNV7YYY"
      },
      "source": [
        "However, logistic regression relies on linear relationship between features and result, which does seem relevant in our case. "
      ]
    },
    {
      "cell_type": "markdown",
      "metadata": {
        "id": "W_MhNX-u7iYK"
      },
      "source": [
        "# random forest"
      ]
    },
    {
      "cell_type": "markdown",
      "metadata": {
        "id": "LOlrEgic7wgp"
      },
      "source": [
        "This time we try random forest method with bagging. Random Forest or tree-based method does assume linear relationship, that's why we prefer it here."
      ]
    },
    {
      "cell_type": "code",
      "metadata": {
        "colab": {
          "base_uri": "https://localhost:8080/"
        },
        "id": "xn5f8xc77uxE",
        "outputId": "993043ac-7920-4532-8d6e-c1f1299247f5"
      },
      "source": [
        "xdf.info()"
      ],
      "execution_count": null,
      "outputs": [
        {
          "output_type": "stream",
          "text": [
            "<class 'pandas.core.frame.DataFrame'>\n",
            "RangeIndex: 10000 entries, 0 to 9999\n",
            "Data columns (total 8 columns):\n",
            " #   Column         Non-Null Count  Dtype\n",
            "---  ------         --------------  -----\n",
            " 0   click          10000 non-null  bool \n",
            " 1   policies_sold  10000 non-null  int64\n",
            " 2   insured        10000 non-null  uint8\n",
            " 3   unknown        10000 non-null  uint8\n",
            " 4   cars2          10000 non-null  uint8\n",
            " 5   cars3          10000 non-null  uint8\n",
            " 6   drivers2       10000 non-null  uint8\n",
            " 7   married        10000 non-null  uint8\n",
            "dtypes: bool(1), int64(1), uint8(6)\n",
            "memory usage: 146.6 KB\n"
          ],
          "name": "stdout"
        }
      ]
    },
    {
      "cell_type": "code",
      "metadata": {
        "colab": {
          "base_uri": "https://localhost:8080/"
        },
        "id": "P9_qv7g7JE5r",
        "outputId": "72cae2b3-159c-4929-f2ce-a18a56c538e6"
      },
      "source": [
        "from sklearn.ensemble import RandomForestClassifier\n",
        "# from sklearn.tree import DecisionTreeClassifier\n",
        "\n",
        "rf_clf = RandomForestClassifier(bootstrap=True)\n",
        "rf_clf.fit(xdf.drop(columns=['click','policies_sold']).loc[xdf.click], xdf['policies_sold'].loc[xdf.click])"
      ],
      "execution_count": null,
      "outputs": [
        {
          "output_type": "execute_result",
          "data": {
            "text/plain": [
              "RandomForestClassifier(bootstrap=True, ccp_alpha=0.0, class_weight=None,\n",
              "                       criterion='gini', max_depth=None, max_features='auto',\n",
              "                       max_leaf_nodes=None, max_samples=None,\n",
              "                       min_impurity_decrease=0.0, min_impurity_split=None,\n",
              "                       min_samples_leaf=1, min_samples_split=2,\n",
              "                       min_weight_fraction_leaf=0.0, n_estimators=100,\n",
              "                       n_jobs=None, oob_score=False, random_state=None,\n",
              "                       verbose=0, warm_start=False)"
            ]
          },
          "metadata": {
            "tags": []
          },
          "execution_count": 22
        }
      ]
    },
    {
      "cell_type": "code",
      "metadata": {
        "colab": {
          "base_uri": "https://localhost:8080/"
        },
        "id": "rIWd6HRz60AR",
        "outputId": "9c30dc37-473f-450c-a0ee-c2eb76a41a8c"
      },
      "source": [
        "# check accuracy on training data\n",
        "pred = rf_clf.predict(xdf.drop(columns=['click','policies_sold']).loc[xdf.click])\n",
        "np.mean(pred==xdf['policies_sold'].loc[xdf.click])"
      ],
      "execution_count": null,
      "outputs": [
        {
          "output_type": "execute_result",
          "data": {
            "text/plain": [
              "0.6043663471778488"
            ]
          },
          "metadata": {
            "tags": []
          },
          "execution_count": 18
        }
      ]
    },
    {
      "cell_type": "code",
      "metadata": {
        "id": "6N0IrtiL9pUS"
      },
      "source": [
        "# predict on classes\n",
        "X = pd.DataFrame(columns=['insured','cars','drivers','married'])\n",
        "\n",
        "for insured in ['insured', 'N', 'unknown']:\n",
        "  for cars in ['cars1','cars2','cars3']:\n",
        "    for drivers in ['drivers1','drivers2']:\n",
        "      for married in ['married','single']:\n",
        "        X.loc[len(X)] = [insured, cars, drivers, married]\n",
        "\n",
        "X = pd.get_dummies(X,prefix='',prefix_sep='').drop(columns=['N','cars1','drivers1','single'])\n",
        "\n",
        "p = rf_clf.predict_proba(X.values)[:,1]\n",
        "\n",
        "X['prob_to_buy'] = p"
      ],
      "execution_count": null,
      "outputs": []
    },
    {
      "cell_type": "code",
      "metadata": {
        "id": "OZ0py4vr7m4X"
      },
      "source": [
        "X.to_csv('classes with probability.csv', index=False)"
      ],
      "execution_count": 33,
      "outputs": []
    },
    {
      "cell_type": "code",
      "metadata": {
        "id": "kqeb5Y6LAS59",
        "colab": {
          "base_uri": "https://localhost:8080/"
        },
        "outputId": "a3214e6c-8e3c-4652-b097-c8a2499da723"
      },
      "source": [
        "rf_clf.classes_"
      ],
      "execution_count": null,
      "outputs": [
        {
          "output_type": "execute_result",
          "data": {
            "text/plain": [
              "array([0, 1])"
            ]
          },
          "metadata": {
            "tags": []
          },
          "execution_count": 32
        }
      ]
    }
  ]
}