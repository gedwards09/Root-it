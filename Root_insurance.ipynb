{
  "nbformat": 4,
  "nbformat_minor": 0,
  "metadata": {
    "kernelspec": {
      "display_name": "Python 3",
      "language": "python",
      "name": "python3"
    },
    "language_info": {
      "codemirror_mode": {
        "name": "ipython",
        "version": 3
      },
      "file_extension": ".py",
      "mimetype": "text/x-python",
      "name": "python",
      "nbconvert_exporter": "python",
      "pygments_lexer": "ipython3",
      "version": "3.8.5"
    },
    "colab": {
      "name": "Root_insurance.ipynb",
      "provenance": [],
      "collapsed_sections": [],
      "toc_visible": true
    }
  },
  "cells": [
    {
      "cell_type": "code",
      "metadata": {
        "id": "_SMdo3bA-sJs"
      },
      "source": [
        "import pandas as pd\n",
        "import numpy as np"
      ],
      "execution_count": null,
      "outputs": []
    },
    {
      "cell_type": "code",
      "metadata": {
        "id": "iyZB4VkV-sJ1",
        "colab": {
          "base_uri": "https://localhost:8080/",
          "height": 374
        },
        "outputId": "30ddc669-435f-464a-8ddf-c06082617b12"
      },
      "source": [
        "df = pd.read_csv(\"./Root_Insurance_data.csv\")"
      ],
      "execution_count": null,
      "outputs": [
        {
          "output_type": "error",
          "ename": "FileNotFoundError",
          "evalue": "ignored",
          "traceback": [
            "\u001b[0;31m---------------------------------------------------------------------------\u001b[0m",
            "\u001b[0;31mFileNotFoundError\u001b[0m                         Traceback (most recent call last)",
            "\u001b[0;32m<ipython-input-2-f87a2cf5dcdd>\u001b[0m in \u001b[0;36m<module>\u001b[0;34m()\u001b[0m\n\u001b[0;32m----> 1\u001b[0;31m \u001b[0mdf\u001b[0m \u001b[0;34m=\u001b[0m \u001b[0mpd\u001b[0m\u001b[0;34m.\u001b[0m\u001b[0mread_csv\u001b[0m\u001b[0;34m(\u001b[0m\u001b[0;34m\"./Root_Insurance_data.csv\"\u001b[0m\u001b[0;34m)\u001b[0m\u001b[0;34m\u001b[0m\u001b[0;34m\u001b[0m\u001b[0m\n\u001b[0m",
            "\u001b[0;32m/usr/local/lib/python3.7/dist-packages/pandas/io/parsers.py\u001b[0m in \u001b[0;36mread_csv\u001b[0;34m(filepath_or_buffer, sep, delimiter, header, names, index_col, usecols, squeeze, prefix, mangle_dupe_cols, dtype, engine, converters, true_values, false_values, skipinitialspace, skiprows, skipfooter, nrows, na_values, keep_default_na, na_filter, verbose, skip_blank_lines, parse_dates, infer_datetime_format, keep_date_col, date_parser, dayfirst, cache_dates, iterator, chunksize, compression, thousands, decimal, lineterminator, quotechar, quoting, doublequote, escapechar, comment, encoding, dialect, error_bad_lines, warn_bad_lines, delim_whitespace, low_memory, memory_map, float_precision)\u001b[0m\n\u001b[1;32m    686\u001b[0m     )\n\u001b[1;32m    687\u001b[0m \u001b[0;34m\u001b[0m\u001b[0m\n\u001b[0;32m--> 688\u001b[0;31m     \u001b[0;32mreturn\u001b[0m \u001b[0m_read\u001b[0m\u001b[0;34m(\u001b[0m\u001b[0mfilepath_or_buffer\u001b[0m\u001b[0;34m,\u001b[0m \u001b[0mkwds\u001b[0m\u001b[0;34m)\u001b[0m\u001b[0;34m\u001b[0m\u001b[0;34m\u001b[0m\u001b[0m\n\u001b[0m\u001b[1;32m    689\u001b[0m \u001b[0;34m\u001b[0m\u001b[0m\n\u001b[1;32m    690\u001b[0m \u001b[0;34m\u001b[0m\u001b[0m\n",
            "\u001b[0;32m/usr/local/lib/python3.7/dist-packages/pandas/io/parsers.py\u001b[0m in \u001b[0;36m_read\u001b[0;34m(filepath_or_buffer, kwds)\u001b[0m\n\u001b[1;32m    452\u001b[0m \u001b[0;34m\u001b[0m\u001b[0m\n\u001b[1;32m    453\u001b[0m     \u001b[0;31m# Create the parser.\u001b[0m\u001b[0;34m\u001b[0m\u001b[0;34m\u001b[0m\u001b[0;34m\u001b[0m\u001b[0m\n\u001b[0;32m--> 454\u001b[0;31m     \u001b[0mparser\u001b[0m \u001b[0;34m=\u001b[0m \u001b[0mTextFileReader\u001b[0m\u001b[0;34m(\u001b[0m\u001b[0mfp_or_buf\u001b[0m\u001b[0;34m,\u001b[0m \u001b[0;34m**\u001b[0m\u001b[0mkwds\u001b[0m\u001b[0;34m)\u001b[0m\u001b[0;34m\u001b[0m\u001b[0;34m\u001b[0m\u001b[0m\n\u001b[0m\u001b[1;32m    455\u001b[0m \u001b[0;34m\u001b[0m\u001b[0m\n\u001b[1;32m    456\u001b[0m     \u001b[0;32mif\u001b[0m \u001b[0mchunksize\u001b[0m \u001b[0;32mor\u001b[0m \u001b[0miterator\u001b[0m\u001b[0;34m:\u001b[0m\u001b[0;34m\u001b[0m\u001b[0;34m\u001b[0m\u001b[0m\n",
            "\u001b[0;32m/usr/local/lib/python3.7/dist-packages/pandas/io/parsers.py\u001b[0m in \u001b[0;36m__init__\u001b[0;34m(self, f, engine, **kwds)\u001b[0m\n\u001b[1;32m    946\u001b[0m             \u001b[0mself\u001b[0m\u001b[0;34m.\u001b[0m\u001b[0moptions\u001b[0m\u001b[0;34m[\u001b[0m\u001b[0;34m\"has_index_names\"\u001b[0m\u001b[0;34m]\u001b[0m \u001b[0;34m=\u001b[0m \u001b[0mkwds\u001b[0m\u001b[0;34m[\u001b[0m\u001b[0;34m\"has_index_names\"\u001b[0m\u001b[0;34m]\u001b[0m\u001b[0;34m\u001b[0m\u001b[0;34m\u001b[0m\u001b[0m\n\u001b[1;32m    947\u001b[0m \u001b[0;34m\u001b[0m\u001b[0m\n\u001b[0;32m--> 948\u001b[0;31m         \u001b[0mself\u001b[0m\u001b[0;34m.\u001b[0m\u001b[0m_make_engine\u001b[0m\u001b[0;34m(\u001b[0m\u001b[0mself\u001b[0m\u001b[0;34m.\u001b[0m\u001b[0mengine\u001b[0m\u001b[0;34m)\u001b[0m\u001b[0;34m\u001b[0m\u001b[0;34m\u001b[0m\u001b[0m\n\u001b[0m\u001b[1;32m    949\u001b[0m \u001b[0;34m\u001b[0m\u001b[0m\n\u001b[1;32m    950\u001b[0m     \u001b[0;32mdef\u001b[0m \u001b[0mclose\u001b[0m\u001b[0;34m(\u001b[0m\u001b[0mself\u001b[0m\u001b[0;34m)\u001b[0m\u001b[0;34m:\u001b[0m\u001b[0;34m\u001b[0m\u001b[0;34m\u001b[0m\u001b[0m\n",
            "\u001b[0;32m/usr/local/lib/python3.7/dist-packages/pandas/io/parsers.py\u001b[0m in \u001b[0;36m_make_engine\u001b[0;34m(self, engine)\u001b[0m\n\u001b[1;32m   1178\u001b[0m     \u001b[0;32mdef\u001b[0m \u001b[0m_make_engine\u001b[0m\u001b[0;34m(\u001b[0m\u001b[0mself\u001b[0m\u001b[0;34m,\u001b[0m \u001b[0mengine\u001b[0m\u001b[0;34m=\u001b[0m\u001b[0;34m\"c\"\u001b[0m\u001b[0;34m)\u001b[0m\u001b[0;34m:\u001b[0m\u001b[0;34m\u001b[0m\u001b[0;34m\u001b[0m\u001b[0m\n\u001b[1;32m   1179\u001b[0m         \u001b[0;32mif\u001b[0m \u001b[0mengine\u001b[0m \u001b[0;34m==\u001b[0m \u001b[0;34m\"c\"\u001b[0m\u001b[0;34m:\u001b[0m\u001b[0;34m\u001b[0m\u001b[0;34m\u001b[0m\u001b[0m\n\u001b[0;32m-> 1180\u001b[0;31m             \u001b[0mself\u001b[0m\u001b[0;34m.\u001b[0m\u001b[0m_engine\u001b[0m \u001b[0;34m=\u001b[0m \u001b[0mCParserWrapper\u001b[0m\u001b[0;34m(\u001b[0m\u001b[0mself\u001b[0m\u001b[0;34m.\u001b[0m\u001b[0mf\u001b[0m\u001b[0;34m,\u001b[0m \u001b[0;34m**\u001b[0m\u001b[0mself\u001b[0m\u001b[0;34m.\u001b[0m\u001b[0moptions\u001b[0m\u001b[0;34m)\u001b[0m\u001b[0;34m\u001b[0m\u001b[0;34m\u001b[0m\u001b[0m\n\u001b[0m\u001b[1;32m   1181\u001b[0m         \u001b[0;32melse\u001b[0m\u001b[0;34m:\u001b[0m\u001b[0;34m\u001b[0m\u001b[0;34m\u001b[0m\u001b[0m\n\u001b[1;32m   1182\u001b[0m             \u001b[0;32mif\u001b[0m \u001b[0mengine\u001b[0m \u001b[0;34m==\u001b[0m \u001b[0;34m\"python\"\u001b[0m\u001b[0;34m:\u001b[0m\u001b[0;34m\u001b[0m\u001b[0;34m\u001b[0m\u001b[0m\n",
            "\u001b[0;32m/usr/local/lib/python3.7/dist-packages/pandas/io/parsers.py\u001b[0m in \u001b[0;36m__init__\u001b[0;34m(self, src, **kwds)\u001b[0m\n\u001b[1;32m   2008\u001b[0m         \u001b[0mkwds\u001b[0m\u001b[0;34m[\u001b[0m\u001b[0;34m\"usecols\"\u001b[0m\u001b[0;34m]\u001b[0m \u001b[0;34m=\u001b[0m \u001b[0mself\u001b[0m\u001b[0;34m.\u001b[0m\u001b[0musecols\u001b[0m\u001b[0;34m\u001b[0m\u001b[0;34m\u001b[0m\u001b[0m\n\u001b[1;32m   2009\u001b[0m \u001b[0;34m\u001b[0m\u001b[0m\n\u001b[0;32m-> 2010\u001b[0;31m         \u001b[0mself\u001b[0m\u001b[0;34m.\u001b[0m\u001b[0m_reader\u001b[0m \u001b[0;34m=\u001b[0m \u001b[0mparsers\u001b[0m\u001b[0;34m.\u001b[0m\u001b[0mTextReader\u001b[0m\u001b[0;34m(\u001b[0m\u001b[0msrc\u001b[0m\u001b[0;34m,\u001b[0m \u001b[0;34m**\u001b[0m\u001b[0mkwds\u001b[0m\u001b[0;34m)\u001b[0m\u001b[0;34m\u001b[0m\u001b[0;34m\u001b[0m\u001b[0m\n\u001b[0m\u001b[1;32m   2011\u001b[0m         \u001b[0mself\u001b[0m\u001b[0;34m.\u001b[0m\u001b[0munnamed_cols\u001b[0m \u001b[0;34m=\u001b[0m \u001b[0mself\u001b[0m\u001b[0;34m.\u001b[0m\u001b[0m_reader\u001b[0m\u001b[0;34m.\u001b[0m\u001b[0munnamed_cols\u001b[0m\u001b[0;34m\u001b[0m\u001b[0;34m\u001b[0m\u001b[0m\n\u001b[1;32m   2012\u001b[0m \u001b[0;34m\u001b[0m\u001b[0m\n",
            "\u001b[0;32mpandas/_libs/parsers.pyx\u001b[0m in \u001b[0;36mpandas._libs.parsers.TextReader.__cinit__\u001b[0;34m()\u001b[0m\n",
            "\u001b[0;32mpandas/_libs/parsers.pyx\u001b[0m in \u001b[0;36mpandas._libs.parsers.TextReader._setup_parser_source\u001b[0;34m()\u001b[0m\n",
            "\u001b[0;31mFileNotFoundError\u001b[0m: [Errno 2] No such file or directory: './Root_Insurance_data.csv'"
          ]
        }
      ]
    },
    {
      "cell_type": "code",
      "metadata": {
        "id": "7Lvx4Vs_-sJ2",
        "colab": {
          "base_uri": "https://localhost:8080/",
          "height": 204
        },
        "outputId": "9029353f-4209-4799-e5a9-a6a2d595aea9"
      },
      "source": [
        "df.head()"
      ],
      "execution_count": null,
      "outputs": [
        {
          "output_type": "execute_result",
          "data": {
            "text/html": [
              "<div>\n",
              "<style scoped>\n",
              "    .dataframe tbody tr th:only-of-type {\n",
              "        vertical-align: middle;\n",
              "    }\n",
              "\n",
              "    .dataframe tbody tr th {\n",
              "        vertical-align: top;\n",
              "    }\n",
              "\n",
              "    .dataframe thead th {\n",
              "        text-align: right;\n",
              "    }\n",
              "</style>\n",
              "<table border=\"1\" class=\"dataframe\">\n",
              "  <thead>\n",
              "    <tr style=\"text-align: right;\">\n",
              "      <th></th>\n",
              "      <th>Currently Insured</th>\n",
              "      <th>Number of Vehicles</th>\n",
              "      <th>Number of Drivers</th>\n",
              "      <th>Marital Status</th>\n",
              "      <th>bid</th>\n",
              "      <th>rank</th>\n",
              "      <th>click</th>\n",
              "      <th>policies_sold</th>\n",
              "    </tr>\n",
              "  </thead>\n",
              "  <tbody>\n",
              "    <tr>\n",
              "      <th>0</th>\n",
              "      <td>unknown</td>\n",
              "      <td>2</td>\n",
              "      <td>1</td>\n",
              "      <td>M</td>\n",
              "      <td>10.0</td>\n",
              "      <td>2</td>\n",
              "      <td>False</td>\n",
              "      <td>0</td>\n",
              "    </tr>\n",
              "    <tr>\n",
              "      <th>1</th>\n",
              "      <td>Y</td>\n",
              "      <td>3</td>\n",
              "      <td>1</td>\n",
              "      <td>M</td>\n",
              "      <td>10.0</td>\n",
              "      <td>5</td>\n",
              "      <td>False</td>\n",
              "      <td>0</td>\n",
              "    </tr>\n",
              "    <tr>\n",
              "      <th>2</th>\n",
              "      <td>Y</td>\n",
              "      <td>3</td>\n",
              "      <td>2</td>\n",
              "      <td>M</td>\n",
              "      <td>10.0</td>\n",
              "      <td>5</td>\n",
              "      <td>False</td>\n",
              "      <td>0</td>\n",
              "    </tr>\n",
              "    <tr>\n",
              "      <th>3</th>\n",
              "      <td>N</td>\n",
              "      <td>3</td>\n",
              "      <td>2</td>\n",
              "      <td>S</td>\n",
              "      <td>10.0</td>\n",
              "      <td>4</td>\n",
              "      <td>False</td>\n",
              "      <td>0</td>\n",
              "    </tr>\n",
              "    <tr>\n",
              "      <th>4</th>\n",
              "      <td>unknown</td>\n",
              "      <td>2</td>\n",
              "      <td>2</td>\n",
              "      <td>S</td>\n",
              "      <td>10.0</td>\n",
              "      <td>2</td>\n",
              "      <td>False</td>\n",
              "      <td>0</td>\n",
              "    </tr>\n",
              "  </tbody>\n",
              "</table>\n",
              "</div>"
            ],
            "text/plain": [
              "  Currently Insured  Number of Vehicles  ...  click policies_sold\n",
              "0           unknown                   2  ...  False             0\n",
              "1                 Y                   3  ...  False             0\n",
              "2                 Y                   3  ...  False             0\n",
              "3                 N                   3  ...  False             0\n",
              "4           unknown                   2  ...  False             0\n",
              "\n",
              "[5 rows x 8 columns]"
            ]
          },
          "metadata": {
            "tags": []
          },
          "execution_count": 5
        }
      ]
    },
    {
      "cell_type": "markdown",
      "metadata": {
        "id": "QZtCe1Ix-sJ3"
      },
      "source": [
        "With the current $10 flat-bid strategy we collect 1878 clicks, 783 of which result in a policy sold.\n",
        "\n",
        "This means we spend a total of \\$18,780 on ads with an efficiency of \\$23.98 per customer aquired."
      ]
    },
    {
      "cell_type": "code",
      "metadata": {
        "id": "JVVocoWR-sJ4",
        "colab": {
          "base_uri": "https://localhost:8080/"
        },
        "outputId": "893b6239-75b9-4f62-a4c3-c27e36283446"
      },
      "source": [
        "print(\"total clicks: \",sum(df.click))\n",
        "print(\"policies sold: \",sum(df.policies_sold))\n",
        "print(\"cost per customer acquired: ${:0.2f}\".format(10*sum(df.click)/sum(df.policies_sold)))"
      ],
      "execution_count": null,
      "outputs": [
        {
          "output_type": "stream",
          "text": [
            "total clicks:  1878\n",
            "policies sold:  783\n",
            "cost per customer acquired: $23.98\n"
          ],
          "name": "stdout"
        }
      ]
    },
    {
      "cell_type": "markdown",
      "metadata": {
        "id": "Q39BEh_4-sJ4"
      },
      "source": [
        "How often do customers who click ultimatly choose to buy a policy?"
      ]
    },
    {
      "cell_type": "code",
      "metadata": {
        "id": "ahvE20j4-sJ5"
      },
      "source": [
        "# create dummy variables\n",
        "xdf = df[[\"click\",\"policies_sold\"]].copy()\n",
        "xdf[[\"insured\",\"unknown\"]] = pd.get_dummies(df[\"Currently Insured\"])[[\"Y\",\"unknown\"]]\n",
        "xdf[[\"cars2\",\"cars3\"]] = pd.get_dummies(df[\"Number of Vehicles\"])[[2,3]]\n",
        "xdf[[\"drivers2\"]] = pd.get_dummies(df[\"Number of Drivers\"])[[1]]\n",
        "xdf[[\"married\"]] = pd.get_dummies(df[\"Marital Status\"])[[\"M\"]]\n",
        "xdf[[\"rank1\",\"rank2\",\"rank3\",\"rank4\",\"rank5\"]] = pd.get_dummies(df[\"rank\"])"
      ],
      "execution_count": null,
      "outputs": []
    },
    {
      "cell_type": "code",
      "metadata": {
        "id": "JFtS6fJP-sJ5",
        "colab": {
          "base_uri": "https://localhost:8080/",
          "height": 359
        },
        "outputId": "609d6ea3-bd39-42b1-ce0d-5a8b043963d6"
      },
      "source": [
        "xdf.head(10)"
      ],
      "execution_count": null,
      "outputs": [
        {
          "output_type": "execute_result",
          "data": {
            "text/html": [
              "<div>\n",
              "<style scoped>\n",
              "    .dataframe tbody tr th:only-of-type {\n",
              "        vertical-align: middle;\n",
              "    }\n",
              "\n",
              "    .dataframe tbody tr th {\n",
              "        vertical-align: top;\n",
              "    }\n",
              "\n",
              "    .dataframe thead th {\n",
              "        text-align: right;\n",
              "    }\n",
              "</style>\n",
              "<table border=\"1\" class=\"dataframe\">\n",
              "  <thead>\n",
              "    <tr style=\"text-align: right;\">\n",
              "      <th></th>\n",
              "      <th>click</th>\n",
              "      <th>policies_sold</th>\n",
              "      <th>insured</th>\n",
              "      <th>unknown</th>\n",
              "      <th>cars2</th>\n",
              "      <th>cars3</th>\n",
              "      <th>drivers2</th>\n",
              "      <th>married</th>\n",
              "      <th>rank1</th>\n",
              "      <th>rank2</th>\n",
              "      <th>rank3</th>\n",
              "      <th>rank4</th>\n",
              "      <th>rank5</th>\n",
              "    </tr>\n",
              "  </thead>\n",
              "  <tbody>\n",
              "    <tr>\n",
              "      <th>0</th>\n",
              "      <td>False</td>\n",
              "      <td>0</td>\n",
              "      <td>0</td>\n",
              "      <td>1</td>\n",
              "      <td>1</td>\n",
              "      <td>0</td>\n",
              "      <td>1</td>\n",
              "      <td>1</td>\n",
              "      <td>0</td>\n",
              "      <td>1</td>\n",
              "      <td>0</td>\n",
              "      <td>0</td>\n",
              "      <td>0</td>\n",
              "    </tr>\n",
              "    <tr>\n",
              "      <th>1</th>\n",
              "      <td>False</td>\n",
              "      <td>0</td>\n",
              "      <td>1</td>\n",
              "      <td>0</td>\n",
              "      <td>0</td>\n",
              "      <td>1</td>\n",
              "      <td>1</td>\n",
              "      <td>1</td>\n",
              "      <td>0</td>\n",
              "      <td>0</td>\n",
              "      <td>0</td>\n",
              "      <td>0</td>\n",
              "      <td>1</td>\n",
              "    </tr>\n",
              "    <tr>\n",
              "      <th>2</th>\n",
              "      <td>False</td>\n",
              "      <td>0</td>\n",
              "      <td>1</td>\n",
              "      <td>0</td>\n",
              "      <td>0</td>\n",
              "      <td>1</td>\n",
              "      <td>0</td>\n",
              "      <td>1</td>\n",
              "      <td>0</td>\n",
              "      <td>0</td>\n",
              "      <td>0</td>\n",
              "      <td>0</td>\n",
              "      <td>1</td>\n",
              "    </tr>\n",
              "    <tr>\n",
              "      <th>3</th>\n",
              "      <td>False</td>\n",
              "      <td>0</td>\n",
              "      <td>0</td>\n",
              "      <td>0</td>\n",
              "      <td>0</td>\n",
              "      <td>1</td>\n",
              "      <td>0</td>\n",
              "      <td>0</td>\n",
              "      <td>0</td>\n",
              "      <td>0</td>\n",
              "      <td>0</td>\n",
              "      <td>1</td>\n",
              "      <td>0</td>\n",
              "    </tr>\n",
              "    <tr>\n",
              "      <th>4</th>\n",
              "      <td>False</td>\n",
              "      <td>0</td>\n",
              "      <td>0</td>\n",
              "      <td>1</td>\n",
              "      <td>1</td>\n",
              "      <td>0</td>\n",
              "      <td>0</td>\n",
              "      <td>0</td>\n",
              "      <td>0</td>\n",
              "      <td>1</td>\n",
              "      <td>0</td>\n",
              "      <td>0</td>\n",
              "      <td>0</td>\n",
              "    </tr>\n",
              "    <tr>\n",
              "      <th>5</th>\n",
              "      <td>False</td>\n",
              "      <td>0</td>\n",
              "      <td>0</td>\n",
              "      <td>0</td>\n",
              "      <td>1</td>\n",
              "      <td>0</td>\n",
              "      <td>1</td>\n",
              "      <td>1</td>\n",
              "      <td>0</td>\n",
              "      <td>0</td>\n",
              "      <td>0</td>\n",
              "      <td>0</td>\n",
              "      <td>1</td>\n",
              "    </tr>\n",
              "    <tr>\n",
              "      <th>6</th>\n",
              "      <td>False</td>\n",
              "      <td>0</td>\n",
              "      <td>1</td>\n",
              "      <td>0</td>\n",
              "      <td>1</td>\n",
              "      <td>0</td>\n",
              "      <td>0</td>\n",
              "      <td>1</td>\n",
              "      <td>0</td>\n",
              "      <td>0</td>\n",
              "      <td>0</td>\n",
              "      <td>1</td>\n",
              "      <td>0</td>\n",
              "    </tr>\n",
              "    <tr>\n",
              "      <th>7</th>\n",
              "      <td>False</td>\n",
              "      <td>0</td>\n",
              "      <td>0</td>\n",
              "      <td>0</td>\n",
              "      <td>1</td>\n",
              "      <td>0</td>\n",
              "      <td>1</td>\n",
              "      <td>0</td>\n",
              "      <td>0</td>\n",
              "      <td>0</td>\n",
              "      <td>0</td>\n",
              "      <td>0</td>\n",
              "      <td>1</td>\n",
              "    </tr>\n",
              "    <tr>\n",
              "      <th>8</th>\n",
              "      <td>False</td>\n",
              "      <td>0</td>\n",
              "      <td>0</td>\n",
              "      <td>1</td>\n",
              "      <td>0</td>\n",
              "      <td>1</td>\n",
              "      <td>0</td>\n",
              "      <td>1</td>\n",
              "      <td>0</td>\n",
              "      <td>0</td>\n",
              "      <td>0</td>\n",
              "      <td>1</td>\n",
              "      <td>0</td>\n",
              "    </tr>\n",
              "    <tr>\n",
              "      <th>9</th>\n",
              "      <td>False</td>\n",
              "      <td>0</td>\n",
              "      <td>0</td>\n",
              "      <td>1</td>\n",
              "      <td>0</td>\n",
              "      <td>0</td>\n",
              "      <td>0</td>\n",
              "      <td>1</td>\n",
              "      <td>1</td>\n",
              "      <td>0</td>\n",
              "      <td>0</td>\n",
              "      <td>0</td>\n",
              "      <td>0</td>\n",
              "    </tr>\n",
              "  </tbody>\n",
              "</table>\n",
              "</div>"
            ],
            "text/plain": [
              "   click  policies_sold  insured  unknown  ...  rank2  rank3  rank4  rank5\n",
              "0  False              0        0        1  ...      1      0      0      0\n",
              "1  False              0        1        0  ...      0      0      0      1\n",
              "2  False              0        1        0  ...      0      0      0      1\n",
              "3  False              0        0        0  ...      0      0      1      0\n",
              "4  False              0        0        1  ...      1      0      0      0\n",
              "5  False              0        0        0  ...      0      0      0      1\n",
              "6  False              0        1        0  ...      0      0      1      0\n",
              "7  False              0        0        0  ...      0      0      0      1\n",
              "8  False              0        0        1  ...      0      0      1      0\n",
              "9  False              0        0        1  ...      0      0      0      0\n",
              "\n",
              "[10 rows x 13 columns]"
            ]
          },
          "metadata": {
            "tags": []
          },
          "execution_count": 8
        }
      ]
    },
    {
      "cell_type": "markdown",
      "metadata": {
        "id": "ECR6C5gS-sJ6"
      },
      "source": [
        "# likelihood to buy policy conditional on ad click"
      ]
    },
    {
      "cell_type": "markdown",
      "metadata": {
        "id": "PXkscs7u-sJ6"
      },
      "source": [
        "Use sklearn logistic regression to determine the probability that a customer buys a policy *given* that they click our add (controlling for insurance status, marital status, number of drivers, and number of vehicles)"
      ]
    },
    {
      "cell_type": "code",
      "metadata": {
        "id": "v0PznS2o-sJ6",
        "colab": {
          "base_uri": "https://localhost:8080/"
        },
        "outputId": "73ceaee7-f703-44a9-d9f9-977ef408cd59"
      },
      "source": [
        "import statsmodels.api as sm\n",
        "glm = sm.Logit(xdf[\"policies_sold\"].loc[xdf.click],\n",
        "    sm.add_constant(xdf[[\"insured\",\"unknown\",\"cars2\",\"cars3\",\"drivers2\",\"married\"]].loc[xdf.click])).fit()"
      ],
      "execution_count": null,
      "outputs": [
        {
          "output_type": "stream",
          "text": [
            "/usr/local/lib/python3.7/dist-packages/statsmodels/tools/_testing.py:19: FutureWarning: pandas.util.testing is deprecated. Use the functions in the public API at pandas.testing instead.\n",
            "  import pandas.util.testing as tm\n"
          ],
          "name": "stderr"
        },
        {
          "output_type": "stream",
          "text": [
            "Optimization terminated successfully.\n",
            "         Current function value: 0.666937\n",
            "         Iterations 5\n"
          ],
          "name": "stdout"
        }
      ]
    },
    {
      "cell_type": "code",
      "metadata": {
        "id": "OpsaYaQ6-sJ7",
        "colab": {
          "base_uri": "https://localhost:8080/"
        },
        "outputId": "0134b3be-0979-466a-b206-276ed56d7dad"
      },
      "source": [
        "print(glm.summary())"
      ],
      "execution_count": null,
      "outputs": [
        {
          "output_type": "stream",
          "text": [
            "                           Logit Regression Results                           \n",
            "==============================================================================\n",
            "Dep. Variable:          policies_sold   No. Observations:                 1878\n",
            "Model:                          Logit   Df Residuals:                     1871\n",
            "Method:                           MLE   Df Model:                            6\n",
            "Date:                Wed, 19 May 2021   Pseudo R-squ.:                 0.01818\n",
            "Time:                        18:12:51   Log-Likelihood:                -1252.5\n",
            "converged:                       True   LL-Null:                       -1275.7\n",
            "Covariance Type:            nonrobust   LLR p-value:                 2.497e-08\n",
            "==============================================================================\n",
            "                 coef    std err          z      P>|z|      [0.025      0.975]\n",
            "------------------------------------------------------------------------------\n",
            "const         -0.1418      0.123     -1.150      0.250      -0.384       0.100\n",
            "insured       -0.6084      0.149     -4.096      0.000      -0.900      -0.317\n",
            "unknown       -0.0210      0.122     -0.172      0.863      -0.260       0.218\n",
            "cars2         -0.4051      0.111     -3.636      0.000      -0.624      -0.187\n",
            "cars3         -0.4865      0.132     -3.685      0.000      -0.745      -0.228\n",
            "drivers2       0.2674      0.097      2.751      0.006       0.077       0.458\n",
            "married        0.0581      0.096      0.604      0.546      -0.130       0.246\n",
            "==============================================================================\n"
          ],
          "name": "stdout"
        }
      ]
    },
    {
      "cell_type": "markdown",
      "metadata": {
        "id": "RJAkB_NE-sJ7"
      },
      "source": [
        "Marital status is not statistically significant, nor is Insured status \"unknown\" (coefficient not statistically different from 0) so we'll not use these variable. "
      ]
    },
    {
      "cell_type": "code",
      "metadata": {
        "id": "-C2_KJx4-sJ7",
        "colab": {
          "base_uri": "https://localhost:8080/"
        },
        "outputId": "fa493b70-e235-4717-fe6e-7048252f731e"
      },
      "source": [
        "glm = sm.Logit(xdf[\"policies_sold\"].loc[xdf.click],\n",
        "    sm.add_constant(xdf[[\"insured\",\"cars2\",\"cars3\",\"drivers2\"]].loc[xdf.click])).fit()"
      ],
      "execution_count": null,
      "outputs": [
        {
          "output_type": "stream",
          "text": [
            "Optimization terminated successfully.\n",
            "         Current function value: 0.667040\n",
            "         Iterations 5\n"
          ],
          "name": "stdout"
        }
      ]
    },
    {
      "cell_type": "code",
      "metadata": {
        "id": "pqzGZ-91-sJ7",
        "colab": {
          "base_uri": "https://localhost:8080/"
        },
        "outputId": "201eaff6-5ab8-452a-c9fa-16fa6a2be295"
      },
      "source": [
        "print(glm.summary())"
      ],
      "execution_count": null,
      "outputs": [
        {
          "output_type": "stream",
          "text": [
            "                           Logit Regression Results                           \n",
            "==============================================================================\n",
            "Dep. Variable:          policies_sold   No. Observations:                 1878\n",
            "Model:                          Logit   Df Residuals:                     1873\n",
            "Method:                           MLE   Df Model:                            4\n",
            "Date:                Wed, 19 May 2021   Pseudo R-squ.:                 0.01802\n",
            "Time:                        18:12:51   Log-Likelihood:                -1252.7\n",
            "converged:                       True   LL-Null:                       -1275.7\n",
            "Covariance Type:            nonrobust   LLR p-value:                 2.483e-09\n",
            "==============================================================================\n",
            "                 coef    std err          z      P>|z|      [0.025      0.975]\n",
            "------------------------------------------------------------------------------\n",
            "const         -0.1265      0.084     -1.507      0.132      -0.291       0.038\n",
            "insured       -0.5946      0.120     -4.947      0.000      -0.830      -0.359\n",
            "cars2         -0.4059      0.111     -3.667      0.000      -0.623      -0.189\n",
            "cars3         -0.4766      0.131     -3.644      0.000      -0.733      -0.220\n",
            "drivers2       0.2594      0.096      2.709      0.007       0.072       0.447\n",
            "==============================================================================\n"
          ],
          "name": "stdout"
        }
      ]
    },
    {
      "cell_type": "markdown",
      "metadata": {
        "id": "GMfmFMEW-sJ8"
      },
      "source": [
        "Also try with sklearn. The models largely agree."
      ]
    },
    {
      "cell_type": "code",
      "metadata": {
        "id": "vAViomcy-sJ8",
        "colab": {
          "base_uri": "https://localhost:8080/"
        },
        "outputId": "a8d95c04-0c9c-4b7c-a3d1-ef8d6e042a0f"
      },
      "source": [
        "from sklearn.linear_model import LogisticRegression\n",
        "\n",
        "logit = LogisticRegression()\n",
        "logit.fit(xdf[[\"insured\",\"cars2\",\"cars3\",\"drivers2\"]].loc[xdf.click],\n",
        "          xdf[\"policies_sold\"].loc[xdf.click])\n",
        "print(logit.coef_)\n",
        "print(logit.intercept_)"
      ],
      "execution_count": null,
      "outputs": [
        {
          "output_type": "stream",
          "text": [
            "[[-0.58468738 -0.39755357 -0.46563783  0.25604267]]\n",
            "[-0.13131774]\n"
          ],
          "name": "stdout"
        }
      ]
    },
    {
      "cell_type": "code",
      "metadata": {
        "id": "oSYRmqZh-sJ8",
        "colab": {
          "base_uri": "https://localhost:8080/"
        },
        "outputId": "21325fb8-3a53-4bd4-a8e1-a124d2dbb906"
      },
      "source": [
        "# see if ranking influences policy rates, conditional on click\n",
        "# none of the coefficients are statistically different from zero\n",
        "\n",
        "glm_ranks = sm.Logit(xdf[\"policies_sold\"].loc[xdf.click],\n",
        "    sm.add_constant(xdf[[\"insured\",\"cars2\",\"cars3\",\"drivers2\",\n",
        "                         \"rank1\",\"rank2\",\"rank3\",\"rank4\"]].loc[xdf.click])).fit()\n",
        "print(glm_ranks.summary())"
      ],
      "execution_count": null,
      "outputs": [
        {
          "output_type": "stream",
          "text": [
            "Optimization terminated successfully.\n",
            "         Current function value: 0.666213\n",
            "         Iterations 5\n",
            "                           Logit Regression Results                           \n",
            "==============================================================================\n",
            "Dep. Variable:          policies_sold   No. Observations:                 1878\n",
            "Model:                          Logit   Df Residuals:                     1869\n",
            "Method:                           MLE   Df Model:                            8\n",
            "Date:                Wed, 19 May 2021   Pseudo R-squ.:                 0.01924\n",
            "Time:                        18:12:51   Log-Likelihood:                -1251.1\n",
            "converged:                       True   LL-Null:                       -1275.7\n",
            "Covariance Type:            nonrobust   LLR p-value:                 6.113e-08\n",
            "==============================================================================\n",
            "                 coef    std err          z      P>|z|      [0.025      0.975]\n",
            "------------------------------------------------------------------------------\n",
            "const          0.2222      0.326      0.682      0.495      -0.417       0.861\n",
            "insured       -0.6253      0.128     -4.894      0.000      -0.876      -0.375\n",
            "cars2         -0.4089      0.113     -3.632      0.000      -0.630      -0.188\n",
            "cars3         -0.5088      0.140     -3.634      0.000      -0.783      -0.234\n",
            "drivers2       0.2586      0.096      2.695      0.007       0.071       0.447\n",
            "rank1         -0.4035      0.316     -1.275      0.202      -1.024       0.217\n",
            "rank2         -0.2407      0.320     -0.751      0.453      -0.869       0.387\n",
            "rank3         -0.3295      0.320     -1.031      0.302      -0.956       0.297\n",
            "rank4         -0.3594      0.339     -1.060      0.289      -1.024       0.305\n",
            "==============================================================================\n"
          ],
          "name": "stdout"
        }
      ]
    },
    {
      "cell_type": "markdown",
      "metadata": {
        "id": "uW4EBrLe-sJ8"
      },
      "source": [
        "# Click thru rate by rank"
      ]
    },
    {
      "cell_type": "code",
      "metadata": {
        "id": "jh45lmc3-sJ9"
      },
      "source": [
        "import matplotlib.pyplot as plt\n",
        "import seaborn as sns"
      ],
      "execution_count": null,
      "outputs": []
    },
    {
      "cell_type": "code",
      "metadata": {
        "id": "n3XklcE1-sJ9",
        "colab": {
          "base_uri": "https://localhost:8080/",
          "height": 299
        },
        "outputId": "f4b61033-eb0a-452d-fe2a-5015428265fd"
      },
      "source": [
        "# barplot count of occurences of each rank\n",
        "sns.countplot(x=\"rank\",data=df)"
      ],
      "execution_count": null,
      "outputs": [
        {
          "output_type": "execute_result",
          "data": {
            "text/plain": [
              "<matplotlib.axes._subplots.AxesSubplot at 0x7fcbff4a0710>"
            ]
          },
          "metadata": {
            "tags": []
          },
          "execution_count": 16
        },
        {
          "output_type": "display_data",
          "data": {
            "image/png": "[encoded data removed]",
            "text/plain": [
              "<Figure size 432x288 with 1 Axes>"
            ]
          },
          "metadata": {
            "tags": [],
            "needs_background": "light"
          }
        }
      ]
    },
    {
      "cell_type": "code",
      "metadata": {
        "id": "JMwXZFxP-sJ9",
        "colab": {
          "base_uri": "https://localhost:8080/"
        },
        "outputId": "299f34a7-8121-4be4-b14e-8de73d81ee01"
      },
      "source": [
        "# find the click-through rate by rank of the ad\n",
        "df.groupby(\"rank\").mean().click"
      ],
      "execution_count": null,
      "outputs": [
        {
          "output_type": "execute_result",
          "data": {
            "text/plain": [
              "rank\n",
              "1    0.526381\n",
              "2    0.287313\n",
              "3    0.146189\n",
              "4    0.080421\n",
              "5    0.021388\n",
              "Name: click, dtype: float64"
            ]
          },
          "metadata": {
            "tags": []
          },
          "execution_count": 17
        }
      ]
    },
    {
      "cell_type": "code",
      "metadata": {
        "colab": {
          "base_uri": "https://localhost:8080/"
        },
        "id": "go4oC2Yi0zw-",
        "outputId": "91d3c985-4310-4f76-8914-3c7604cef01e"
      },
      "source": [
        "# Average Raqnk for customers who click our ad\n",
        "r_bar_click = df[\"rank\"].loc[df.click].mean()\n",
        "n_click = np.sum(df.click)\n",
        "print(r_bar_click)\n",
        "print(n_click)\n",
        "\n",
        "n=10000\n",
        "r_bar = df[\"rank\"].mean()\n",
        "\n",
        "t = n_click*(r_bar_click - 1)/(n*(r_bar-1))\n",
        "print(t)\n",
        "1/(1+t+t**2+t**3+t**4)\n"
      ],
      "execution_count": null,
      "outputs": [
        {
          "output_type": "stream",
          "text": [
            "1.992545260915868\n",
            "1878\n",
            "0.08534407765212217\n"
          ],
          "name": "stdout"
        },
        {
          "output_type": "execute_result",
          "data": {
            "text/plain": [
              "0.9146600635522406"
            ]
          },
          "metadata": {
            "tags": []
          },
          "execution_count": 44
        }
      ]
    },
    {
      "cell_type": "code",
      "metadata": {
        "colab": {
          "base_uri": "https://localhost:8080/"
        },
        "id": "Le5CArgL1rHz",
        "outputId": "35e26d2c-a67a-456b-ea05-36b6938e1aeb"
      },
      "source": [
        "# Average Rank for customers who do NOT click our ad\n",
        "df[\"rank\"].mean()"
      ],
      "execution_count": null,
      "outputs": [
        {
          "output_type": "execute_result",
          "data": {
            "text/plain": [
              "3.1841"
            ]
          },
          "metadata": {
            "tags": []
          },
          "execution_count": 40
        }
      ]
    },
    {
      "cell_type": "code",
      "metadata": {
        "colab": {
          "base_uri": "https://localhost:8080/"
        },
        "id": "0P6P0jBg2SIe",
        "outputId": "be3e4079-a070-4ee8-8ae6-4a6e0be6456c"
      },
      "source": [
        "t = .2876\n",
        "1/(1 + t + t**2 + t**3 + t**4)"
      ],
      "execution_count": null,
      "outputs": [
        {
          "output_type": "execute_result",
          "data": {
            "text/plain": [
              "0.7138045063075129"
            ]
          },
          "metadata": {
            "tags": []
          },
          "execution_count": 39
        }
      ]
    },
    {
      "cell_type": "markdown",
      "metadata": {
        "id": "YfmSHlVk-sJ9"
      },
      "source": [
        "See if controlling for customer characteristics (insured status, marital status, number of vehicles, number of drivers) affects click thru rates by rank "
      ]
    },
    {
      "cell_type": "code",
      "metadata": {
        "id": "kaDbb6uO-sJ-",
        "colab": {
          "base_uri": "https://localhost:8080/"
        },
        "outputId": "1f349ee5-4ff1-443a-c7c6-59a2c9a70e1a"
      },
      "source": [
        "glm_click = sm.Logit(xdf[\"click\"],\n",
        "    sm.add_constant(xdf[[\"insured\",\"unknown\",\"married\",\"cars2\",\"cars3\",\"drivers2\",\n",
        "                         \"rank1\",\"rank2\",\"rank3\",\"rank4\"]])).fit()\n",
        "print(glm_click.summary())"
      ],
      "execution_count": null,
      "outputs": [
        {
          "output_type": "stream",
          "text": [
            "Optimization terminated successfully.\n",
            "         Current function value: 0.388893\n",
            "         Iterations 8\n",
            "                           Logit Regression Results                           \n",
            "==============================================================================\n",
            "Dep. Variable:                  click   No. Observations:                10000\n",
            "Model:                          Logit   Df Residuals:                     9989\n",
            "Method:                           MLE   Df Model:                           10\n",
            "Date:                Wed, 19 May 2021   Pseudo R-squ.:                  0.1949\n",
            "Time:                        18:12:54   Log-Likelihood:                -3888.9\n",
            "converged:                       True   LL-Null:                       -4830.2\n",
            "Covariance Type:            nonrobust   LLR p-value:                     0.000\n",
            "==============================================================================\n",
            "                 coef    std err          z      P>|z|      [0.025      0.975]\n",
            "------------------------------------------------------------------------------\n",
            "const         -3.7038      0.168    -22.000      0.000      -4.034      -3.374\n",
            "insured        0.1053      0.081      1.293      0.196      -0.054       0.265\n",
            "unknown        0.0804      0.084      0.958      0.338      -0.084       0.245\n",
            "married       -0.1545      0.058     -2.686      0.007      -0.267      -0.042\n",
            "cars2         -0.2123      0.070     -3.053      0.002      -0.349      -0.076\n",
            "cars3         -0.0527      0.082     -0.641      0.522      -0.214       0.108\n",
            "drivers2       0.0328      0.058      0.562      0.574      -0.082       0.147\n",
            "rank1          3.8743      0.173     22.453      0.000       3.536       4.212\n",
            "rank2          2.8587      0.168     17.065      0.000       2.530       3.187\n",
            "rank3          2.0220      0.160     12.656      0.000       1.709       2.335\n",
            "rank4          1.3612      0.166      8.196      0.000       1.036       1.687\n",
            "==============================================================================\n"
          ],
          "name": "stdout"
        }
      ]
    },
    {
      "cell_type": "code",
      "metadata": {
        "id": "UNjjO2uG-sJ-",
        "colab": {
          "base_uri": "https://localhost:8080/"
        },
        "outputId": "2d7e59b7-1aa6-4ac1-f574-26f24082162a"
      },
      "source": [
        "# insurance status not statistically significant, and number of drivers is not statistically significant\n",
        "for rk in [\"rank1\",\"rank2\",\"rank3\",\"rank4\",\"rank5\"]:\n",
        "    y = xdf[[\"click\"]].loc[xdf[rk]==1]\n",
        "    # there are no instances of unknown insurance status with rank=5\n",
        "    # remove this \"unknown\" variable when taking logistic regression of rank=5\n",
        "    if rk != \"rank5\":\n",
        "        x = xdf[[\"insured\",\"unknown\",\"drivers2\",\"cars2\",\"cars3\",\"married\"]].loc[ xdf[rk]==1]\n",
        "    else:\n",
        "        x = xdf[[\"insured\",\"drivers2\",\"cars2\",\"cars3\",\"married\"]].loc[ xdf[rk]==1]\n",
        "    print(sm.Logit(y,sm.add_constant(x)).fit().summary())"
      ],
      "execution_count": null,
      "outputs": [
        {
          "output_type": "stream",
          "text": [
            "Optimization terminated successfully.\n",
            "         Current function value: 0.688064\n",
            "         Iterations 4\n",
            "                           Logit Regression Results                           \n",
            "==============================================================================\n",
            "Dep. Variable:                  click   No. Observations:                 1611\n",
            "Model:                          Logit   Df Residuals:                     1604\n",
            "Method:                           MLE   Df Model:                            6\n",
            "Date:                Wed, 19 May 2021   Pseudo R-squ.:                0.005335\n",
            "Time:                        18:12:55   Log-Likelihood:                -1108.5\n",
            "converged:                       True   LL-Null:                       -1114.4\n",
            "Covariance Type:            nonrobust   LLR p-value:                   0.06442\n",
            "==============================================================================\n",
            "                 coef    std err          z      P>|z|      [0.025      0.975]\n",
            "------------------------------------------------------------------------------\n",
            "const          0.2347      0.188      1.247      0.212      -0.134       0.604\n",
            "insured        0.1905      0.244      0.782      0.434      -0.287       0.668\n",
            "unknown       -0.0053      0.206     -0.026      0.980      -0.409       0.398\n",
            "drivers2       0.0599      0.106      0.564      0.573      -0.148       0.268\n",
            "cars2         -0.0738      0.117     -0.628      0.530      -0.304       0.156\n",
            "cars3         -0.0225      0.184     -0.123      0.902      -0.383       0.338\n",
            "married       -0.2856      0.102     -2.796      0.005      -0.486      -0.085\n",
            "==============================================================================\n",
            "Optimization terminated successfully.\n",
            "         Current function value: 0.596582\n",
            "         Iterations 5\n",
            "                           Logit Regression Results                           \n",
            "==============================================================================\n",
            "Dep. Variable:                  click   No. Observations:                 1608\n",
            "Model:                          Logit   Df Residuals:                     1601\n",
            "Method:                           MLE   Df Model:                            6\n",
            "Date:                Wed, 19 May 2021   Pseudo R-squ.:                0.005246\n",
            "Time:                        18:12:55   Log-Likelihood:                -959.30\n",
            "converged:                       True   LL-Null:                       -964.36\n",
            "Covariance Type:            nonrobust   LLR p-value:                    0.1198\n",
            "==============================================================================\n",
            "                 coef    std err          z      P>|z|      [0.025      0.975]\n",
            "------------------------------------------------------------------------------\n",
            "const         -0.7153      0.138     -5.195      0.000      -0.985      -0.445\n",
            "insured       -0.0476      0.175     -0.271      0.786      -0.391       0.296\n",
            "unknown        0.0663      0.148      0.449      0.654      -0.223       0.356\n",
            "drivers2      -0.1170      0.115     -1.019      0.308      -0.342       0.108\n",
            "cars2         -0.4138      0.144     -2.876      0.004      -0.696      -0.132\n",
            "cars3         -0.0628      0.182     -0.346      0.729      -0.419       0.293\n",
            "married       -0.0937      0.113     -0.830      0.406      -0.315       0.128\n",
            "==============================================================================\n",
            "Optimization terminated successfully.\n",
            "         Current function value: 0.414333\n",
            "         Iterations 6\n",
            "                           Logit Regression Results                           \n",
            "==============================================================================\n",
            "Dep. Variable:                  click   No. Observations:                 2401\n",
            "Model:                          Logit   Df Residuals:                     2394\n",
            "Method:                           MLE   Df Model:                            6\n",
            "Date:                Wed, 19 May 2021   Pseudo R-squ.:                0.004105\n",
            "Time:                        18:12:55   Log-Likelihood:                -994.81\n",
            "converged:                       True   LL-Null:                       -998.92\n",
            "Covariance Type:            nonrobust   LLR p-value:                    0.2237\n",
            "==============================================================================\n",
            "                 coef    std err          z      P>|z|      [0.025      0.975]\n",
            "------------------------------------------------------------------------------\n",
            "const         -1.7896      0.143    -12.490      0.000      -2.070      -1.509\n",
            "insured        0.0797      0.139      0.573      0.567      -0.193       0.352\n",
            "unknown        0.0885      0.145      0.612      0.540      -0.195       0.372\n",
            "drivers2       0.1897      0.117      1.622      0.105      -0.040       0.419\n",
            "cars2         -0.2982      0.143     -2.078      0.038      -0.579      -0.017\n",
            "cars3         -0.0933      0.138     -0.674      0.500      -0.365       0.178\n",
            "married       -0.0181      0.116     -0.155      0.877      -0.246       0.210\n",
            "==============================================================================\n",
            "Optimization terminated successfully.\n",
            "         Current function value: 0.277728\n",
            "         Iterations 7\n",
            "                           Logit Regression Results                           \n",
            "==============================================================================\n",
            "Dep. Variable:                  click   No. Observations:                 2089\n",
            "Model:                          Logit   Df Residuals:                     2082\n",
            "Method:                           MLE   Df Model:                            6\n",
            "Date:                Wed, 19 May 2021   Pseudo R-squ.:                0.007396\n",
            "Time:                        18:12:56   Log-Likelihood:                -580.17\n",
            "converged:                       True   LL-Null:                       -584.50\n",
            "Covariance Type:            nonrobust   LLR p-value:                    0.1945\n",
            "==============================================================================\n",
            "                 coef    std err          z      P>|z|      [0.025      0.975]\n",
            "------------------------------------------------------------------------------\n",
            "const         -2.2963      0.221    -10.372      0.000      -2.730      -1.862\n",
            "insured        0.1614      0.170      0.948      0.343      -0.172       0.495\n",
            "unknown        0.4996      0.310      1.614      0.107      -0.107       1.106\n",
            "drivers2      -0.1269      0.164     -0.776      0.438      -0.448       0.194\n",
            "cars2          0.0121      0.216      0.056      0.955      -0.411       0.436\n",
            "cars3         -0.0207      0.216     -0.095      0.924      -0.445       0.404\n",
            "married       -0.3970      0.163     -2.429      0.015      -0.717      -0.077\n",
            "==============================================================================\n",
            "Optimization terminated successfully.\n",
            "         Current function value: 0.102628\n",
            "         Iterations 8\n",
            "                           Logit Regression Results                           \n",
            "==============================================================================\n",
            "Dep. Variable:                  click   No. Observations:                 2291\n",
            "Model:                          Logit   Df Residuals:                     2285\n",
            "Method:                           MLE   Df Model:                            5\n",
            "Date:                Wed, 19 May 2021   Pseudo R-squ.:                0.007403\n",
            "Time:                        18:12:56   Log-Likelihood:                -235.12\n",
            "converged:                       True   LL-Null:                       -236.87\n",
            "Covariance Type:            nonrobust   LLR p-value:                    0.6223\n",
            "==============================================================================\n",
            "                 coef    std err          z      P>|z|      [0.025      0.975]\n",
            "------------------------------------------------------------------------------\n",
            "const         -4.1195      0.613     -6.723      0.000      -5.320      -2.919\n",
            "insured        0.1290      0.294      0.439      0.661      -0.447       0.705\n",
            "drivers2       0.2235      0.310      0.722      0.470      -0.383       0.830\n",
            "cars2         -0.2633      0.530     -0.497      0.619      -1.301       0.775\n",
            "cars3         -0.0760      0.521     -0.146      0.884      -1.097       0.945\n",
            "married        0.4201      0.302      1.390      0.165      -0.172       1.012\n",
            "==============================================================================\n"
          ],
          "name": "stdout"
        }
      ]
    },
    {
      "cell_type": "markdown",
      "metadata": {
        "id": "UuvgIWpw-sJ-"
      },
      "source": [
        "Most of the veriables fall short of statistical significance except for Martial Status and Number of Vehicles\n",
        "There's "
      ]
    },
    {
      "cell_type": "code",
      "metadata": {
        "id": "53yPZjyD-sJ_",
        "colab": {
          "base_uri": "https://localhost:8080/"
        },
        "outputId": "95dde88c-454a-4638-b987-05ec5ce193a4"
      },
      "source": [
        "# the only variables that show statistical significance are marital status and number of vehicles\n",
        "\n",
        "for rk in [\"rank1\",\"rank2\",\"rank3\",\"rank4\",\"rank5\"]:\n",
        "    y = xdf[[\"click\"]].loc[xdf[rk]==1]\n",
        "    x = xdf[[\"cars2\",\"cars3\",\"married\"]].loc[ xdf[rk]==1]\n",
        "    print(sm.Logit(y,sm.add_constant(x)).fit().summary())"
      ],
      "execution_count": null,
      "outputs": [
        {
          "output_type": "stream",
          "text": [
            "Optimization terminated successfully.\n",
            "         Current function value: 0.688537\n",
            "         Iterations 4\n",
            "                           Logit Regression Results                           \n",
            "==============================================================================\n",
            "Dep. Variable:                  click   No. Observations:                 1611\n",
            "Model:                          Logit   Df Residuals:                     1607\n",
            "Method:                           MLE   Df Model:                            3\n",
            "Date:                Wed, 19 May 2021   Pseudo R-squ.:                0.004651\n",
            "Time:                        18:12:56   Log-Likelihood:                -1109.2\n",
            "converged:                       True   LL-Null:                       -1114.4\n",
            "Covariance Type:            nonrobust   LLR p-value:                   0.01570\n",
            "==============================================================================\n",
            "                 coef    std err          z      P>|z|      [0.025      0.975]\n",
            "------------------------------------------------------------------------------\n",
            "const          0.2982      0.082      3.627      0.000       0.137       0.459\n",
            "cars2         -0.1053      0.108     -0.973      0.330      -0.317       0.107\n",
            "cars3         -0.0396      0.177     -0.224      0.823      -0.387       0.308\n",
            "married       -0.3033      0.101     -3.007      0.003      -0.501      -0.106\n",
            "==============================================================================\n",
            "Optimization terminated successfully.\n",
            "         Current function value: 0.597015\n",
            "         Iterations 5\n",
            "                           Logit Regression Results                           \n",
            "==============================================================================\n",
            "Dep. Variable:                  click   No. Observations:                 1608\n",
            "Model:                          Logit   Df Residuals:                     1604\n",
            "Method:                           MLE   Df Model:                            3\n",
            "Date:                Wed, 19 May 2021   Pseudo R-squ.:                0.004525\n",
            "Time:                        18:12:56   Log-Likelihood:                -960.00\n",
            "converged:                       True   LL-Null:                       -964.36\n",
            "Covariance Type:            nonrobust   LLR p-value:                   0.03315\n",
            "==============================================================================\n",
            "                 coef    std err          z      P>|z|      [0.025      0.975]\n",
            "------------------------------------------------------------------------------\n",
            "const         -0.7616      0.088     -8.613      0.000      -0.935      -0.588\n",
            "cars2         -0.3633      0.131     -2.780      0.005      -0.619      -0.107\n",
            "cars3         -0.0346      0.162     -0.213      0.831      -0.353       0.284\n",
            "married       -0.0841      0.112     -0.748      0.454      -0.305       0.136\n",
            "==============================================================================\n",
            "Optimization terminated successfully.\n",
            "         Current function value: 0.415029\n",
            "         Iterations 6\n",
            "                           Logit Regression Results                           \n",
            "==============================================================================\n",
            "Dep. Variable:                  click   No. Observations:                 2401\n",
            "Model:                          Logit   Df Residuals:                     2397\n",
            "Method:                           MLE   Df Model:                            3\n",
            "Date:                Wed, 19 May 2021   Pseudo R-squ.:                0.002432\n",
            "Time:                        18:12:56   Log-Likelihood:                -996.49\n",
            "converged:                       True   LL-Null:                       -998.92\n",
            "Covariance Type:            nonrobust   LLR p-value:                    0.1824\n",
            "==============================================================================\n",
            "                 coef    std err          z      P>|z|      [0.025      0.975]\n",
            "------------------------------------------------------------------------------\n",
            "const         -1.6400      0.108    -15.238      0.000      -1.851      -1.429\n",
            "cars2         -0.3058      0.143     -2.141      0.032      -0.586      -0.026\n",
            "cars3         -0.0756      0.137     -0.552      0.581      -0.344       0.193\n",
            "married       -0.0246      0.116     -0.212      0.832      -0.252       0.203\n",
            "==============================================================================\n",
            "Optimization terminated successfully.\n",
            "         Current function value: 0.278490\n",
            "         Iterations 7\n",
            "                           Logit Regression Results                           \n",
            "==============================================================================\n",
            "Dep. Variable:                  click   No. Observations:                 2089\n",
            "Model:                          Logit   Df Residuals:                     2085\n",
            "Method:                           MLE   Df Model:                            3\n",
            "Date:                Wed, 19 May 2021   Pseudo R-squ.:                0.004670\n",
            "Time:                        18:12:56   Log-Likelihood:                -581.77\n",
            "converged:                       True   LL-Null:                       -584.50\n",
            "Covariance Type:            nonrobust   LLR p-value:                    0.1411\n",
            "==============================================================================\n",
            "                 coef    std err          z      P>|z|      [0.025      0.975]\n",
            "------------------------------------------------------------------------------\n",
            "const         -2.2993      0.178    -12.904      0.000      -2.649      -1.950\n",
            "cars2          0.0367      0.214      0.171      0.864      -0.384       0.457\n",
            "cars3          0.0720      0.205      0.352      0.725      -0.329       0.473\n",
            "married       -0.3734      0.162     -2.301      0.021      -0.692      -0.055\n",
            "==============================================================================\n",
            "Optimization terminated successfully.\n",
            "         Current function value: 0.102774\n",
            "         Iterations 8\n",
            "                           Logit Regression Results                           \n",
            "==============================================================================\n",
            "Dep. Variable:                  click   No. Observations:                 2291\n",
            "Model:                          Logit   Df Residuals:                     2287\n",
            "Method:                           MLE   Df Model:                            3\n",
            "Date:                Wed, 19 May 2021   Pseudo R-squ.:                0.005990\n",
            "Time:                        18:12:56   Log-Likelihood:                -235.45\n",
            "converged:                       True   LL-Null:                       -236.87\n",
            "Covariance Type:            nonrobust   LLR p-value:                    0.4173\n",
            "==============================================================================\n",
            "                 coef    std err          z      P>|z|      [0.025      0.975]\n",
            "------------------------------------------------------------------------------\n",
            "const         -3.8533      0.513     -7.507      0.000      -4.859      -2.847\n",
            "cars2         -0.3272      0.513     -0.638      0.524      -1.333       0.679\n",
            "cars3         -0.1690      0.500     -0.338      0.735      -1.148       0.810\n",
            "married        0.4310      0.301      1.430      0.153      -0.160       1.022\n",
            "==============================================================================\n"
          ],
          "name": "stdout"
        }
      ]
    },
    {
      "cell_type": "code",
      "metadata": {
        "id": "suJFm2nh-sJ_",
        "colab": {
          "base_uri": "https://localhost:8080/",
          "height": 532
        },
        "outputId": "36ddb4dd-17f5-4c3d-86dd-063a9fbf45a5"
      },
      "source": [
        "# none of the customer information variables are overly correlated with each other\n",
        "pd.get_dummies(df[[\"Currently Insured\", \"Number of Vehicles\", \"Number of Drivers\", \"Marital Status\"]],\n",
        "               columns=[\"Currently Insured\", \"Number of Vehicles\", \"Number of Drivers\", \"Marital Status\"]).corr()"
      ],
      "execution_count": null,
      "outputs": [
        {
          "output_type": "execute_result",
          "data": {
            "text/html": [
              "<div>\n",
              "<style scoped>\n",
              "    .dataframe tbody tr th:only-of-type {\n",
              "        vertical-align: middle;\n",
              "    }\n",
              "\n",
              "    .dataframe tbody tr th {\n",
              "        vertical-align: top;\n",
              "    }\n",
              "\n",
              "    .dataframe thead th {\n",
              "        text-align: right;\n",
              "    }\n",
              "</style>\n",
              "<table border=\"1\" class=\"dataframe\">\n",
              "  <thead>\n",
              "    <tr style=\"text-align: right;\">\n",
              "      <th></th>\n",
              "      <th>Currently Insured_N</th>\n",
              "      <th>Currently Insured_Y</th>\n",
              "      <th>Currently Insured_unknown</th>\n",
              "      <th>Number of Vehicles_1</th>\n",
              "      <th>Number of Vehicles_2</th>\n",
              "      <th>Number of Vehicles_3</th>\n",
              "      <th>Number of Drivers_1</th>\n",
              "      <th>Number of Drivers_2</th>\n",
              "      <th>Marital Status_M</th>\n",
              "      <th>Marital Status_S</th>\n",
              "    </tr>\n",
              "  </thead>\n",
              "  <tbody>\n",
              "    <tr>\n",
              "      <th>Currently Insured_N</th>\n",
              "      <td>1.000000</td>\n",
              "      <td>-0.522415</td>\n",
              "      <td>-0.490018</td>\n",
              "      <td>-0.024843</td>\n",
              "      <td>-0.020346</td>\n",
              "      <td>0.046471</td>\n",
              "      <td>-0.027503</td>\n",
              "      <td>0.027503</td>\n",
              "      <td>-0.026444</td>\n",
              "      <td>0.026444</td>\n",
              "    </tr>\n",
              "    <tr>\n",
              "      <th>Currently Insured_Y</th>\n",
              "      <td>-0.522415</td>\n",
              "      <td>1.000000</td>\n",
              "      <td>-0.487308</td>\n",
              "      <td>-0.015743</td>\n",
              "      <td>-0.005911</td>\n",
              "      <td>0.022263</td>\n",
              "      <td>-0.014690</td>\n",
              "      <td>0.014690</td>\n",
              "      <td>-0.014685</td>\n",
              "      <td>0.014685</td>\n",
              "    </tr>\n",
              "    <tr>\n",
              "      <th>Currently Insured_unknown</th>\n",
              "      <td>-0.490018</td>\n",
              "      <td>-0.487308</td>\n",
              "      <td>1.000000</td>\n",
              "      <td>0.041536</td>\n",
              "      <td>0.026879</td>\n",
              "      <td>-0.070350</td>\n",
              "      <td>0.043184</td>\n",
              "      <td>-0.043184</td>\n",
              "      <td>0.042093</td>\n",
              "      <td>-0.042093</td>\n",
              "    </tr>\n",
              "    <tr>\n",
              "      <th>Number of Vehicles_1</th>\n",
              "      <td>-0.024843</td>\n",
              "      <td>-0.015743</td>\n",
              "      <td>0.041536</td>\n",
              "      <td>1.000000</td>\n",
              "      <td>-0.527298</td>\n",
              "      <td>-0.484922</td>\n",
              "      <td>-0.004986</td>\n",
              "      <td>0.004986</td>\n",
              "      <td>-0.022844</td>\n",
              "      <td>0.022844</td>\n",
              "    </tr>\n",
              "    <tr>\n",
              "      <th>Number of Vehicles_2</th>\n",
              "      <td>-0.020346</td>\n",
              "      <td>-0.005911</td>\n",
              "      <td>0.026879</td>\n",
              "      <td>-0.527298</td>\n",
              "      <td>1.000000</td>\n",
              "      <td>-0.487395</td>\n",
              "      <td>-0.040076</td>\n",
              "      <td>0.040076</td>\n",
              "      <td>-0.026989</td>\n",
              "      <td>0.026989</td>\n",
              "    </tr>\n",
              "    <tr>\n",
              "      <th>Number of Vehicles_3</th>\n",
              "      <td>0.046471</td>\n",
              "      <td>0.022263</td>\n",
              "      <td>-0.070350</td>\n",
              "      <td>-0.484922</td>\n",
              "      <td>-0.487395</td>\n",
              "      <td>1.000000</td>\n",
              "      <td>0.046374</td>\n",
              "      <td>-0.046374</td>\n",
              "      <td>0.051255</td>\n",
              "      <td>-0.051255</td>\n",
              "    </tr>\n",
              "    <tr>\n",
              "      <th>Number of Drivers_1</th>\n",
              "      <td>-0.027503</td>\n",
              "      <td>-0.014690</td>\n",
              "      <td>0.043184</td>\n",
              "      <td>-0.004986</td>\n",
              "      <td>-0.040076</td>\n",
              "      <td>0.046374</td>\n",
              "      <td>1.000000</td>\n",
              "      <td>-1.000000</td>\n",
              "      <td>-0.026827</td>\n",
              "      <td>0.026827</td>\n",
              "    </tr>\n",
              "    <tr>\n",
              "      <th>Number of Drivers_2</th>\n",
              "      <td>0.027503</td>\n",
              "      <td>0.014690</td>\n",
              "      <td>-0.043184</td>\n",
              "      <td>0.004986</td>\n",
              "      <td>0.040076</td>\n",
              "      <td>-0.046374</td>\n",
              "      <td>-1.000000</td>\n",
              "      <td>1.000000</td>\n",
              "      <td>0.026827</td>\n",
              "      <td>-0.026827</td>\n",
              "    </tr>\n",
              "    <tr>\n",
              "      <th>Marital Status_M</th>\n",
              "      <td>-0.026444</td>\n",
              "      <td>-0.014685</td>\n",
              "      <td>0.042093</td>\n",
              "      <td>-0.022844</td>\n",
              "      <td>-0.026989</td>\n",
              "      <td>0.051255</td>\n",
              "      <td>-0.026827</td>\n",
              "      <td>0.026827</td>\n",
              "      <td>1.000000</td>\n",
              "      <td>-1.000000</td>\n",
              "    </tr>\n",
              "    <tr>\n",
              "      <th>Marital Status_S</th>\n",
              "      <td>0.026444</td>\n",
              "      <td>0.014685</td>\n",
              "      <td>-0.042093</td>\n",
              "      <td>0.022844</td>\n",
              "      <td>0.026989</td>\n",
              "      <td>-0.051255</td>\n",
              "      <td>0.026827</td>\n",
              "      <td>-0.026827</td>\n",
              "      <td>-1.000000</td>\n",
              "      <td>1.000000</td>\n",
              "    </tr>\n",
              "  </tbody>\n",
              "</table>\n",
              "</div>"
            ],
            "text/plain": [
              "                           Currently Insured_N  ...  Marital Status_S\n",
              "Currently Insured_N                   1.000000  ...          0.026444\n",
              "Currently Insured_Y                  -0.522415  ...          0.014685\n",
              "Currently Insured_unknown            -0.490018  ...         -0.042093\n",
              "Number of Vehicles_1                 -0.024843  ...          0.022844\n",
              "Number of Vehicles_2                 -0.020346  ...          0.026989\n",
              "Number of Vehicles_3                  0.046471  ...         -0.051255\n",
              "Number of Drivers_1                  -0.027503  ...          0.026827\n",
              "Number of Drivers_2                   0.027503  ...         -0.026827\n",
              "Marital Status_M                     -0.026444  ...         -1.000000\n",
              "Marital Status_S                      0.026444  ...          1.000000\n",
              "\n",
              "[10 rows x 10 columns]"
            ]
          },
          "metadata": {
            "tags": []
          },
          "execution_count": 21
        }
      ]
    },
    {
      "cell_type": "code",
      "metadata": {
        "id": "88g5IPs6-sKA",
        "colab": {
          "base_uri": "https://localhost:8080/",
          "height": 129
        },
        "outputId": "096ff887-93cc-4ad9-e990-3709cc48e0f2"
      },
      "source": [
        "# do logistic regression with interaction between rank and customer information\n",
        "y = df.click\n",
        "for rk in [\"rank1\",\"rank2\",\"rank3\",\"rank4\",\"rank5\"]:\n",
        "    "
      ],
      "execution_count": null,
      "outputs": [
        {
          "output_type": "error",
          "ename": "SyntaxError",
          "evalue": "ignored",
          "traceback": [
            "\u001b[0;36m  File \u001b[0;32m\"<ipython-input-22-15977b8ec1f2>\"\u001b[0;36m, line \u001b[0;32m4\u001b[0m\n\u001b[0;31m    \u001b[0m\n\u001b[0m    ^\u001b[0m\n\u001b[0;31mSyntaxError\u001b[0m\u001b[0;31m:\u001b[0m unexpected EOF while parsing\n"
          ]
        }
      ]
    },
    {
      "cell_type": "code",
      "metadata": {
        "id": "m9nPBHMO-sKA",
        "colab": {
          "base_uri": "https://localhost:8080/"
        },
        "outputId": "26c55f50-275b-4307-ddf7-e2f8a49186f1"
      },
      "source": [
        "xdf[[\"insured\",\"unknown\",\"drivers2\",\"cars2\",\"cars3\",\"married\"]].multiply(xdf[\"rank1\"],axis=0).loc"
      ],
      "execution_count": null,
      "outputs": [
        {
          "output_type": "execute_result",
          "data": {
            "text/plain": [
              "<pandas.core.indexing._LocIndexer at 0x7fcbfd4a0770>"
            ]
          },
          "metadata": {
            "tags": []
          },
          "execution_count": 23
        }
      ]
    },
    {
      "cell_type": "code",
      "metadata": {
        "id": "xT2j9rfg-sKB",
        "colab": {
          "base_uri": "https://localhost:8080/",
          "height": 296
        },
        "outputId": "a219db5a-7d1f-45f2-c01b-a71c4508915d"
      },
      "source": [
        "sns.countplot(x=\"rank\", data = df.loc[ (df[\"Currently Insured\"]==\"unknown\") & (df[\"Number of Vehicles\"] <= 2)] )"
      ],
      "execution_count": null,
      "outputs": [
        {
          "output_type": "execute_result",
          "data": {
            "text/plain": [
              "<matplotlib.axes._subplots.AxesSubplot at 0x7fcbfd4b5550>"
            ]
          },
          "metadata": {
            "tags": []
          },
          "execution_count": 24
        },
        {
          "output_type": "display_data",
          "data": {
            "image/png": "[encoded data removed]",
            "text/plain": [
              "<Figure size 432x288 with 1 Axes>"
            ]
          },
          "metadata": {
            "tags": [],
            "needs_background": "light"
          }
        }
      ]
    },
    {
      "cell_type": "code",
      "metadata": {
        "colab": {
          "base_uri": "https://localhost:8080/",
          "height": 296
        },
        "id": "YpiPBT7BA_BB",
        "outputId": "8bf78d7d-b718-457f-8d53-d51ecd548a98"
      },
      "source": [
        "sns.countplot(x=\"rank\", data = df.loc[ (df[\"Currently Insured\"]!=\"unknown\") & (df[\"Number of Vehicles\"] >= 2)] )"
      ],
      "execution_count": null,
      "outputs": [
        {
          "output_type": "execute_result",
          "data": {
            "text/plain": [
              "<matplotlib.axes._subplots.AxesSubplot at 0x7fcbfd4703d0>"
            ]
          },
          "metadata": {
            "tags": []
          },
          "execution_count": 25
        },
        {
          "output_type": "display_data",
          "data": {
            "image/png": "[encoded data removed]",
            "text/plain": [
              "<Figure size 432x288 with 1 Axes>"
            ]
          },
          "metadata": {
            "tags": [],
            "needs_background": "light"
          }
        }
      ]
    },
    {
      "cell_type": "code",
      "metadata": {
        "colab": {
          "base_uri": "https://localhost:8080/",
          "height": 296
        },
        "id": "Upu6xTrZBn66",
        "outputId": "71adbd78-1f20-48e3-ea8d-013f89be8d1a"
      },
      "source": [
        "sns.countplot(x=\"rank\", data = df.loc[ (df[\"Number of Vehicles\"] != 2)] )"
      ],
      "execution_count": null,
      "outputs": [
        {
          "output_type": "execute_result",
          "data": {
            "text/plain": [
              "<matplotlib.axes._subplots.AxesSubplot at 0x7fcbfd3dce10>"
            ]
          },
          "metadata": {
            "tags": []
          },
          "execution_count": 26
        },
        {
          "output_type": "display_data",
          "data": {
            "image/png": "[encoded data removed]",
            "text/plain": [
              "<Figure size 432x288 with 1 Axes>"
            ]
          },
          "metadata": {
            "tags": [],
            "needs_background": "light"
          }
        }
      ]
    },
    {
      "cell_type": "code",
      "metadata": {
        "id": "jxWnACWyB0bG"
      },
      "source": [
        ""
      ],
      "execution_count": null,
      "outputs": []
    },
    {
      "cell_type": "markdown",
      "metadata": {
        "id": "SHzI9kItDSm5"
      },
      "source": [
        "$$ p = \\mathbb P(X>10) $$\n",
        "\n",
        "$$ q = 1 - p$$\n",
        "\n",
        "$$\\mathbb P( \\mathrm{rank} = r ) = \\binom 5 {r-1} p^{5-r} q^r$$\n",
        "\n",
        "The liklihood function given $n_1,n_2,...,n_5$:\n",
        "$$ \\mathbb P( n_1, \\ldots, n_5 | p ) = c(n_1,\\ldots,n_5) p^{\\sum_{r=1}^5 (5-r)n_r} q^{\\sum_{i=1}^5 r n_r} \\\\\n",
        "= c p^{n(5- \\overline r)} q^{n \\overline r} $$\n",
        "\n",
        "$$ \\log \\mathbb P (n_1, \\ldots, n_5 | p ) = n (5- \\overline r) \\log p + n \\overline r \\log (1-p) \\\\\n",
        "\\frac \\partial {\\partial p} \\log \\mathbb P (n_1, \\ldots, n_5 | p ) = \\frac {n (5-\\overline r)} p - \\frac {n \\overline r} {\n",
        "(1-p)}$$\n"
      ]
    },
    {
      "cell_type": "markdown",
      "metadata": {
        "id": "OMDN1gCbukdS"
      },
      "source": [
        "# Maximum Likelihood Estimates for Parametric Models"
      ]
    },
    {
      "cell_type": "markdown",
      "metadata": {
        "id": "qAZAyB8wunIS"
      },
      "source": [
        "Here, we'll make some assumption about how advertisers generate their bids. First, let's assume that they are drawn from a uniform distribution with a minimum of \\\\$0 and a maximum of \\\\$N.\n",
        "\n",
        "This is a relatively simple model, but we don't have any information about how much other advertisers are bidding other than that it must be greater than \\\\$0, and perhaps there is some maximum threshold that advertisers are willing to spend on an ad.\n",
        "\n",
        "Let $\\overline r$ be the observed average rank, for some fixed subset of customer characteristics, when we place a flate \\\\$10 advertisement bid. The maximum likelihood estimate for the probability $$\\hat p_{\\mathrm{MLE}} = \\mathbb P( \\text{ ad bid} > 10 ) = \\frac {\\overline r - 1} 4$$\n",
        "\n",
        "\n",
        "Asuming a uniform distribution, $ \\mathbb P( \\text{ ad bid} > 10 ) = \\frac {N-10}N$, and the maximum likelihood estimate for the maximum $N$ is $$ \\hat N_{\\mathrm{MLE}} = \\frac {40} {5-\\overline r}$$."
      ]
    },
    {
      "cell_type": "markdown",
      "metadata": {
        "id": "0nnsGO5uupUs"
      },
      "source": [
        "For example, among customers with known insurance status and at least two vehicles, our average rank is $\\overline r = 4.2$ and corresponds to a max bid of \\\\$50.20"
      ]
    },
    {
      "cell_type": "code",
      "metadata": {
        "id": "rtzseUVkurUT",
        "colab": {
          "base_uri": "https://localhost:8080/"
        },
        "outputId": "ee3b6cac-2601-4074-9647-c4cd1665a93c"
      },
      "source": [
        "r = df[\"rank\"].loc[(df[\"Currently Insured\"]!=\"unknown\")&(df[\"Number of Vehicles\"]>=2)].mean()\n",
        "print(\"r = \",r)\n",
        "print(\"N = \",40/(5-r))"
      ],
      "execution_count": null,
      "outputs": [
        {
          "output_type": "stream",
          "text": [
            "r =  4.203135205747877\n",
            "N =  50.1967213114754\n"
          ],
          "name": "stdout"
        }
      ]
    },
    {
      "cell_type": "markdown",
      "metadata": {
        "id": "DOxnc02Hut3o"
      },
      "source": [
        "On the other hand, if we consider customers with unknown insurance status and one or two vehicles, our average rank is $\\overline r = 1.7$, corresponding to a max bid of \\\\$12.06."
      ]
    },
    {
      "cell_type": "code",
      "metadata": {
        "id": "dC8nkQh8uuWP",
        "colab": {
          "base_uri": "https://localhost:8080/"
        },
        "outputId": "dc8460a9-9935-4ed5-f78d-ee30c1cb629f"
      },
      "source": [
        "r = df[\"rank\"].loc[(df[\"Currently Insured\"]==\"unknown\")&(df[\"Number of Vehicles\"]<=2)].mean()\n",
        "print(\"r = \",r)\n",
        "print(\"N = \",40/(5-r))"
      ],
      "execution_count": null,
      "outputs": [
        {
          "output_type": "stream",
          "text": [
            "r =  1.6845058264997843\n",
            "N =  12.064566519135642\n"
          ],
          "name": "stdout"
        }
      ]
    },
    {
      "cell_type": "markdown",
      "metadata": {
        "id": "sDCkygY3t6Tc"
      },
      "source": [
        "# Maximum Likelihood Estimate for Exponential Distribution"
      ]
    },
    {
      "cell_type": "markdown",
      "metadata": {
        "id": "OAPoMOfYt7Jk"
      },
      "source": [
        "Another mehtod to model other advertisers' bids is to use the exponential distribution. This is another useful model since we have little information on competing bids from other advertisers. We know their bid must be positive, but we don't know how large they may be, or what their average or variation is. We can, however, infer how often their bids are greater than our flat \\\\$10 bid, based on our placement in the rankings.\n",
        "\n",
        "Exponential distributions tend to be useful when the only information is the rate at which an event occurs. For one, the exponential minimizes entropy among all distributions for $x>0$. So in a sense, it assumes the \"least\" information about actual distribution.\n",
        "\n",
        "Moreover, in this context, the \"memoryless\" property of the exponential distribution means that if we condition for bids greater than \\\\$10, they also form an exponential distribution.\n",
        "\n",
        "A random exponential variable with rate $\\lambda$ is distributed with\n",
        "$$\n",
        "    f(x) = \\frac 1 \\lambda e^{-x/\\lambda} \\text{, for } x>0.\n",
        "$$\n",
        "\n",
        "The rate $\\lambda$ can be determined by estimateing the probability other advertisers bid more than \\\\$10\n",
        "$$ \\mathbb P(\\mathrm{ad\\,bid}>10) = e^{-10/\\lambda}.$$\n",
        "\n",
        "If $\\overline r$ is the average rank observed for some subset of customer characteristics, the maximum likelihood estimate of the rate $\\lambda$ is $$\\hat \\lambda_{\\mathrm{MLE}} = \\frac {-10} {\\log \\frac{\\overline r - 1}{4}}$$."
      ]
    },
    {
      "cell_type": "markdown",
      "metadata": {
        "id": "QGL0Q4kXuCus"
      },
      "source": [
        "For example, among customers with known insurance status and at least two vehicles, our average rank is $\\overline r$ = 4.2 and corresponds to a rate parameter of $\\hat\\lambda_{\\mathrm{MLE}}=$\\\\$45.01, so other advertisers are outbidding us by a lot."
      ]
    },
    {
      "cell_type": "code",
      "metadata": {
        "id": "-ttry-S3t9kf",
        "colab": {
          "base_uri": "https://localhost:8080/"
        },
        "outputId": "6c415ea9-527e-4d10-ebb8-8ebfefcfb842"
      },
      "source": [
        "r = df[\"rank\"].loc[(df[\"Currently Insured\"]!=\"unknown\")&(df[\"Number of Vehicles\"]>=2)].mean()\n",
        "print(\"Average rank r = \",r)\n",
        "print(\"rate = \",-10/np.log((r-1)/4))"
      ],
      "execution_count": null,
      "outputs": [
        {
          "output_type": "stream",
          "text": [
            "Average rank r =  4.203135205747877\n",
            "rate =  45.011736530017885\n"
          ],
          "name": "stdout"
        }
      ]
    },
    {
      "cell_type": "markdown",
      "metadata": {
        "id": "mdlUJJzLuNj9"
      },
      "source": [
        "On the other hand, if we consider customers with unknown insurance status and one or two vehicles, our average rank is $\\overline r = 1.7$, corresponding to a rate parameter of $\\lambda=$\\\\$5.66, and we are consistently overbidding for customers."
      ]
    },
    {
      "cell_type": "code",
      "metadata": {
        "id": "-yxx6CpCuOOI",
        "colab": {
          "base_uri": "https://localhost:8080/"
        },
        "outputId": "94e14e7b-769a-471b-fa3d-14506ca06403"
      },
      "source": [
        "r = df[\"rank\"].loc[(df[\"Currently Insured\"]==\"unknown\")&(df[\"Number of Vehicles\"]<=2)].mean()\n",
        "print(\"r = \",r)\n",
        "print(\"rate = \",-10/np.log((r-1)/4))"
      ],
      "execution_count": null,
      "outputs": [
        {
          "output_type": "stream",
          "text": [
            "r =  1.6845058264997843\n",
            "rate =  5.66459111949206\n"
          ],
          "name": "stdout"
        }
      ]
    },
    {
      "cell_type": "markdown",
      "metadata": {
        "id": "RhkeusocuTxJ"
      },
      "source": [
        "# How does bid strategy ultimately affect sales?"
      ]
    },
    {
      "cell_type": "markdown",
      "metadata": {
        "id": "VBdInAIWuXFg"
      },
      "source": [
        "Now, let's consider a single customer whose characteristics are known (insurance status, marital status, number of drivers, and number of vehicles). We need to determine an optimal dollar amount $b$ to bid for an ad for this customer.\n",
        "\n",
        "Our bid will determine our place in the ad rankings, and we'll use the exponential distribution to model the other advertisers bids based on the average ranking for a flat \\\\$10 bid. If $\\overline r$ is the average rank for customers of this type, so that $$\\lambda = \\hat \\lambda_{\\mathrm{MLE}}= \\frac {10}{\\log \\big( 4/(\\overline r -1) \\big)}$$ is the maximum likelihood estimate of the rate parameter, then the probability that our bid is $\\mathrm{rank}=r$ is $$\\mathbb P(\\mathrm{rank}=r | \\mathrm{bid}=b) = \\binom 4 {r-1} (1 - e^{-b/\\lambda})^{r-1}( e^{-b/\\lambda})^{5-r}.$$\n",
        "\n",
        "If our ad is at rank $r$ in the rankings, we can estimate the chance that that a customer will click our ad, $\\mathbb P( \\mathrm{click} | \\mathrm{rank}=r)$. A higher bid will result in a higher rank, on average, and we have seen that higher ranked ads get clicked much more frequently than lower ranked ads. These click rates don't seem to depend on the characteristic of the customer, so we'll take them to be same for all customers $$\\mathbb P( \\mathrm{click} | \\mathrm{rank}=r) = \\theta_r.$$\n",
        "\n",
        "Finally, using the customer characteristics, we can estimate the probability of selling a policy when the customer clicks our ad, $\\mathbb P( \\mathrm{buy} | \\mathrm{click})$, using the logistic regression from above.\n",
        "\n",
        "Thus can estimate the probability of selling a policy based on the bid size: $$\\mathbb P(\\mathrm{buy} | \\mathrm{bid}=b) = \\mathbb P( \\mathrm{buy} | \\mathrm{click}) \\sum_{r=1}^5 \\mathbb P( \\mathrm{click} | \\mathrm{rank}=r)\\mathbb P(\\mathrm{rank}=r | \\mathrm{bid}=b)$$\n",
        "\n",
        "$$\\mathbb P(\\mathrm{buy} | \\mathrm{bid}=b) = \\mathbb P( \\mathrm{buy} | \\mathrm{click}) \\sum_{r=1}^5 \\theta_r \\binom 4 {r-1} (1 - e^{-b/\\lambda})^{r-1}( e^{-b/\\lambda})^{5-r}$$\n"
      ]
    },
    {
      "cell_type": "markdown",
      "metadata": {
        "id": "5nL4pHrrmMaS"
      },
      "source": [
        "# Assessing the efficiency of a bid strategy"
      ]
    },
    {
      "cell_type": "markdown",
      "metadata": {
        "id": "QCpF2eIXuBOa"
      },
      "source": [
        "The goal for developing a bid strategy is to maximize the efficiency of the advertising budget, while selling at least 400 total policies.\n",
        "\n",
        "Thus we need to estimate the total number of policies a bid strategy will sell, the expected cost of the bid strategy, and ultimately the expected efficiency of customer acquisition.\n",
        "\n",
        "There are 36=3x3x2x2 possible customer characteristics. Label these from 1 to 36, and suppose we end up with $N_i$ customers for each $i=1,\\ldots,36$. These are random quantities, but we have some idea of the proportion they make up from the data collected so far.\n",
        "\n",
        "From the data, we also have an estimate of $p_i$, the probability to buy a policy conditioned on a click; $\\lambda_i$, the rate at which other advertisers bid for customers of that type; and $\\theta_r$ the rate of expected clicks for ads at rank=$r$.\n",
        "\n",
        "Suppose we propose a bid strategy where we always bid $b_i$ dollars for customer of type $i$. Then we can calcuate the expected number of policies sold:\n",
        "$$ \\mathbb E [ \\mathrm{\\,\\#policies\\,\\,sold\\,} ]  =\\sum_{i=1}^{36} \\sum_{r=1}^5 N_i p_i \\theta_r \\binom{4}{r-1} \\big(e^{-b_i/\\lambda_i}\\big)^{r-1}  \\big(1- e^{- b_i/\\lambda_i}\\big)^{5-r} $$\n",
        "\n",
        "We have to pay for our bid only if our ad is clicked, so we can also estimate the total expenses as\n",
        "$$ \\mathbb E[ \\mathrm{Cost} ] = \\sum_{i=1}^{36} \\sum_{r=1}^5 b_i M_i \\theta_r \\binom 4 {r-1} \\big(e^{-b_i/\\lambda_i}\\big)^{r-1}  \\big(1- e^{- b_i/\\lambda_i}\\big)^{5-r}, $$\n",
        "where $M_i$ is the number of clicks per category.\n",
        "\n"
      ]
    },
    {
      "cell_type": "markdown",
      "metadata": {
        "id": "Y5Jmg0bvH_na"
      },
      "source": [
        "$$ \\theta_r \\propto c^r$$"
      ]
    },
    {
      "cell_type": "markdown",
      "metadata": {
        "id": "EB7E-tpTtRCe"
      },
      "source": [
        "The question of maximizing efficiency can now be posed as a constrained optimization problem: Find\n",
        "$$ \\underset {b_i\\geq 0} {\\arg\\,\\max\\,} \\mathcal L(b_1,\\ldots,b_{36})$$\n",
        "where\n",
        "$$ \\mathcal L(b_1,\\ldots,b_{36}) = \\frac {\\mathbb E[ \\mathrm{\\# policies\\,sold\\,}]}{\\mathbb E [\\mathrm{Cost}]} = \\frac {\\sum_{i=1}^{36} \\sum_{r=1}^5 N_i p_i \\theta_r \\binom{4}{r-1} \\big( e^{-b_i/\\lambda_i}\\big)^{r-1}  \\big(1- e^{- b_i/\\lambda_i}\\big)^{5-r}} {\\sum_{i=1}^{36} \\sum_{r=1}^5 b_i N_i \\theta_r \\binom 4 {r-1} \\big(e^{-b_i/\\lambda_i}\\big)^{r-1}  \\big(1- e^{- b_i/\\lambda_i}\\big)^{5-r}} $$\n",
        "subject to the constraint\n",
        "$$ \\sum_{i=1}^{36} \\sum_{r=1}^5 N_i p_i \\theta_r \\binom{4}{r-1} \\big(e^{-b_i/\\lambda_i}\\big)^{r-1}  \\big(1 - e^{- b_i/\\lambda_i}\\big)^{5-r} \\geq 400. $$\n",
        "\n",
        "(Strictly, this constraint says the *expected* number of policies is at least 400. If we want, for example, 95\\% confidence that the true number of policies will be at least 400, we can increase the lower bound appropriatly using a variance extimate)."
      ]
    },
    {
      "cell_type": "code",
      "metadata": {
        "id": "p4Wlv0ThqP-K"
      },
      "source": [
        ""
      ],
      "execution_count": null,
      "outputs": []
    },
    {
      "cell_type": "markdown",
      "metadata": {
        "id": "ORaOedIp5wFJ"
      },
      "source": [
        "Let us work with the inverse of the efficiency function, namely\n",
        "$$ \\frac {\\mathbb{E}[\\mathrm{Cost}]}{\\mathbb E[ \\mathrm{\\# policies\\,sold\\,}]}.$$\n",
        "This is because optimization algorithms are written to find minimums, so we may choose to minimize the inverse of the efficiency function instead of maximizing the efficiency function directly. In addition, if we choose to set the constraint to a fixed value, instead of being any value over 400, we are simply just optimizing(specifically minimizing) the expected cost, constrained to expected number of sold policies fixed to some value, instead of the inverse of the expected cost.\n",
        "\n",
        "We keep the constraint, which is the expected number of policies sold, to be $C \\in \\{400,500,600,700,800,900\\}.$ After fixing the constraint, we run an algorithm to minimize $\\mathbb{E}[\\text{Cost}]$ subject to the constraint $\\mathbb{E}[\\text{# policies sold}] = C.$ "
      ]
    },
    {
      "cell_type": "markdown",
      "metadata": {
        "id": "8BHO005a7QgW"
      },
      "source": [
        "![Screenshot_2021-05-21 Notes - Jupyter Notebook.png](data:image/png;base64,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)"
      ]
    },
    {
      "cell_type": "markdown",
      "metadata": {
        "id": "gep5T7N_8cvg"
      },
      "source": [
        "Caveat: Might not be true minimal values fixing the expected number sold to be some multiple of 100."
      ]
    },
    {
      "cell_type": "code",
      "metadata": {
        "id": "aPatYcS67ZBP"
      },
      "source": [
        ""
      ],
      "execution_count": null,
      "outputs": []
    },
    {
      "cell_type": "markdown",
      "metadata": {
        "id": "UOuTZH787-xp"
      },
      "source": [
        "![costperpolicy.png](data:image/png;base64,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)"
      ]
    },
    {
      "cell_type": "code",
      "metadata": {
        "id": "btXStP858BAs"
      },
      "source": [
        ""
      ],
      "execution_count": null,
      "outputs": []
    },
    {
      "cell_type": "markdown",
      "metadata": {
        "id": "Mrl-JuOC8YqG"
      },
      "source": [
        ""
      ]
    }
  ]
}