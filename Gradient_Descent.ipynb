{
 "cells": [
  {
   "cell_type": "code",
   "execution_count": 3,
   "metadata": {},
   "outputs": [],
   "source": [
    "import pandas as pd\n",
    "import numpy as np\n",
    "import matplotlib.pyplot as plt \n",
    "import seaborn as sns"
   ]
  },
  {
   "cell_type": "code",
   "execution_count": 4,
   "metadata": {},
   "outputs": [],
   "source": [
    "df = pd.read_csv(\"./Root_Insurance_data.csv\")"
   ]
  },
  {
   "cell_type": "markdown",
   "metadata": {},
   "source": [
    "# Use Random Forest to get the Probabilities of Different Customers to Buy Policies"
   ]
  },
  {
   "cell_type": "markdown",
   "metadata": {},
   "source": [
    "We're estimating the probabilities using only customers who click, so that this estimates the true probability of customers to buy a policy, independent of where our ad was ranked."
   ]
  },
  {
   "cell_type": "code",
   "execution_count": 5,
   "metadata": {},
   "outputs": [],
   "source": [
    "# create data frame of customers who clicked our ad\n",
    "# we will estimate the probabilities for each customer to buy a policy conditioned on clicking the ad\n",
    "\n",
    "xdf_click = pd.get_dummies(df[\"Currently Insured\"].loc[df.click])[[\"Y\",\"unknown\"]]\n",
    "xdf_click.columns = [\"insured\",\"unknown\"]\n",
    "xdf_click[[\"cars2\",\"cars3\"]] = pd.get_dummies(df[\"Number of Vehicles\"].loc[df.click])[[2,3]]\n",
    "xdf_click[[\"drivers2\"]] = pd.get_dummies(df[\"Number of Drivers\"].loc[df.click])[[1]]\n",
    "xdf_click[[\"married\"]] = pd.get_dummies(df[\"Marital Status\"].loc[df.click])[[\"M\"]]\n",
    "xdf_click[[\"policies_sold\"]] = df[[\"policies_sold\"]].loc[df.click].copy()"
   ]
  },
  {
   "cell_type": "code",
   "execution_count": 6,
   "metadata": {},
   "outputs": [
    {
     "data": {
      "text/html": [
       "<div>\n",
       "<style scoped>\n",
       "    .dataframe tbody tr th:only-of-type {\n",
       "        vertical-align: middle;\n",
       "    }\n",
       "\n",
       "    .dataframe tbody tr th {\n",
       "        vertical-align: top;\n",
       "    }\n",
       "\n",
       "    .dataframe thead th {\n",
       "        text-align: right;\n",
       "    }\n",
       "</style>\n",
       "<table border=\"1\" class=\"dataframe\">\n",
       "  <thead>\n",
       "    <tr style=\"text-align: right;\">\n",
       "      <th></th>\n",
       "      <th>insured</th>\n",
       "      <th>unknown</th>\n",
       "      <th>cars2</th>\n",
       "      <th>cars3</th>\n",
       "      <th>drivers2</th>\n",
       "      <th>married</th>\n",
       "      <th>policies_sold</th>\n",
       "    </tr>\n",
       "  </thead>\n",
       "  <tbody>\n",
       "    <tr>\n",
       "      <th>12</th>\n",
       "      <td>1</td>\n",
       "      <td>0</td>\n",
       "      <td>1</td>\n",
       "      <td>0</td>\n",
       "      <td>1</td>\n",
       "      <td>0</td>\n",
       "      <td>1</td>\n",
       "    </tr>\n",
       "    <tr>\n",
       "      <th>14</th>\n",
       "      <td>0</td>\n",
       "      <td>1</td>\n",
       "      <td>1</td>\n",
       "      <td>0</td>\n",
       "      <td>0</td>\n",
       "      <td>0</td>\n",
       "      <td>1</td>\n",
       "    </tr>\n",
       "    <tr>\n",
       "      <th>16</th>\n",
       "      <td>0</td>\n",
       "      <td>1</td>\n",
       "      <td>0</td>\n",
       "      <td>0</td>\n",
       "      <td>0</td>\n",
       "      <td>1</td>\n",
       "      <td>1</td>\n",
       "    </tr>\n",
       "    <tr>\n",
       "      <th>28</th>\n",
       "      <td>0</td>\n",
       "      <td>1</td>\n",
       "      <td>0</td>\n",
       "      <td>0</td>\n",
       "      <td>0</td>\n",
       "      <td>1</td>\n",
       "      <td>1</td>\n",
       "    </tr>\n",
       "    <tr>\n",
       "      <th>32</th>\n",
       "      <td>0</td>\n",
       "      <td>1</td>\n",
       "      <td>1</td>\n",
       "      <td>0</td>\n",
       "      <td>0</td>\n",
       "      <td>1</td>\n",
       "      <td>0</td>\n",
       "    </tr>\n",
       "  </tbody>\n",
       "</table>\n",
       "</div>"
      ],
      "text/plain": [
       "    insured  unknown  cars2  cars3  drivers2  married  policies_sold\n",
       "12        1        0      1      0         1        0              1\n",
       "14        0        1      1      0         0        0              1\n",
       "16        0        1      0      0         0        1              1\n",
       "28        0        1      0      0         0        1              1\n",
       "32        0        1      1      0         0        1              0"
      ]
     },
     "execution_count": 6,
     "metadata": {},
     "output_type": "execute_result"
    }
   ],
   "source": [
    "xdf_click.head()"
   ]
  },
  {
   "cell_type": "code",
   "execution_count": 7,
   "metadata": {},
   "outputs": [],
   "source": [
    "from sklearn.ensemble import RandomForestClassifier"
   ]
  },
  {
   "cell_type": "code",
   "execution_count": 8,
   "metadata": {},
   "outputs": [],
   "source": [
    "tree = RandomForestClassifier()"
   ]
  },
  {
   "cell_type": "code",
   "execution_count": 9,
   "metadata": {},
   "outputs": [
    {
     "data": {
      "text/plain": [
       "RandomForestClassifier()"
      ]
     },
     "execution_count": 9,
     "metadata": {},
     "output_type": "execute_result"
    }
   ],
   "source": [
    "tree.fit(xdf_click.loc[:, xdf_click.columns!=\"policies_sold\"],xdf_click.policies_sold)"
   ]
  },
  {
   "cell_type": "code",
   "execution_count": 11,
   "metadata": {},
   "outputs": [
    {
     "data": {
      "text/plain": [
       "array([[0.72241266, 0.27758734],\n",
       "       [0.61369375, 0.38630625],\n",
       "       [0.44974436, 0.55025564],\n",
       "       ...,\n",
       "       [0.67303364, 0.32696636],\n",
       "       [0.45939805, 0.54060195],\n",
       "       [0.59668525, 0.40331475]])"
      ]
     },
     "execution_count": 11,
     "metadata": {},
     "output_type": "execute_result"
    }
   ],
   "source": [
    "tree.predict_proba(xdf_click.loc[:, xdf_click.columns!=\"policies_sold\"])"
   ]
  },
  {
   "cell_type": "code",
   "execution_count": 43,
   "metadata": {},
   "outputs": [
    {
     "data": {
      "text/plain": [
       "0.4073051071254356"
      ]
     },
     "execution_count": 43,
     "metadata": {},
     "output_type": "execute_result"
    }
   ],
   "source": [
    "tree.predict_proba([[0,0,0,0,0,0]])[0,1]"
   ]
  },
  {
   "cell_type": "code",
   "execution_count": 12,
   "metadata": {},
   "outputs": [],
   "source": [
    "# initialize np array for class probabilities\n",
    "p = np.zeros(36)\n",
    "# create list to remember the numbers\n",
    "class_list = {}\n",
    "idx = 0\n",
    "for i in [\"Y\",\"unknown\",\"N\"]:\n",
    "    for c in [1,2,3]:\n",
    "        for d in [1,2]:\n",
    "            for m in [\"married\",\"single\"]:\n",
    "                X = [[ (i==\"Y\"), (i==\"unknown\"), (c==2),(c==3),(d==2),(m==\"married\")]]\n",
    "                # get probability for class idx\n",
    "                p[idx] = tree.predict_proba(X)[0,1]\n",
    "                class_list[idx] = (i,\"cars\"+str(c),\"drivers\"+str(d),m)\n",
    "                idx+=1\n",
    "                "
   ]
  },
  {
   "cell_type": "code",
   "execution_count": 13,
   "metadata": {},
   "outputs": [
    {
     "data": {
      "text/plain": [
       "array([0.32696636, 0.31772703, 0.31727874, 0.49582178, 0.37516413,\n",
       "       0.19948193, 0.32109186, 0.27758734, 0.10924937, 0.4165706 ,\n",
       "       0.19032896, 0.1970274 , 0.55025564, 0.42969227, 0.52714164,\n",
       "       0.54060195, 0.27629182, 0.38630625, 0.48451734, 0.41218785,\n",
       "       0.43645073, 0.37121727, 0.36639369, 0.38896504, 0.42197187,\n",
       "       0.40331475, 0.55785321, 0.58326495, 0.43890383, 0.47195511,\n",
       "       0.41129067, 0.31567381, 0.54413246, 0.22788909, 0.57190949,\n",
       "       0.36676702])"
      ]
     },
     "execution_count": 13,
     "metadata": {},
     "output_type": "execute_result"
    }
   ],
   "source": [
    "p"
   ]
  },
  {
   "cell_type": "markdown",
   "metadata": {},
   "source": [
    "# Get the Estimates of the Rate Parameters"
   ]
  },
  {
   "cell_type": "code",
   "execution_count": 15,
   "metadata": {},
   "outputs": [],
   "source": [
    "# create column in dataFrame which associates each entry to a class 0 to 35\n",
    "df[\"class\"] = 0\n",
    "\n",
    "lm = np.zeros(36)\n",
    "idx=0\n",
    "for i in [\"Y\",\"unknown\",\"N\"]:\n",
    "    for c in [1,2,3]:\n",
    "        for d in [1,2]:\n",
    "            for m in [\"M\",\"S\"]:\n",
    "                # get the average rank for class idx\n",
    "                r = df[\"rank\"].loc[(df[\"Marital Status\"]==m)&(df[\"Number of Drivers\"]==d)\\\n",
    "                                 &(df[\"Number of Vehicles\"]==c)&(df[\"Currently Insured\"]==i)].mean()\n",
    "                df.loc[(df[\"Marital Status\"]==m)&(df[\"Number of Drivers\"]==d)\\\n",
    "                                 &(df[\"Number of Vehicles\"]==c)&(df[\"Currently Insured\"]==i), \"class\"] = idx\n",
    "                # there is one class (unknown insurance, single, 3 vehicles, 2 drivers); idx = 24\n",
    "                # that has zero representatives, \n",
    "                # for this one we will use the global average bid\n",
    "                # alternatively we could estimate it with logistic regression\n",
    "                # for now we set it to the average rank=3.1841\n",
    "                if np.isnan(r):\n",
    "                    r = df[\"rank\"].mean()\n",
    "                lm[idx] = 10/np.log(4/(r-1))\n",
    "                idx+=1\n",
    "                r=0"
   ]
  },
  {
   "cell_type": "markdown",
   "metadata": {},
   "source": [
    "# Get Coefficients for Click-Thru rate by Rank"
   ]
  },
  {
   "cell_type": "code",
   "execution_count": 19,
   "metadata": {},
   "outputs": [],
   "source": [
    "click_rates_by_rank = df.groupby(\"rank\").click.mean().to_numpy()"
   ]
  },
  {
   "cell_type": "markdown",
   "metadata": {},
   "source": [
    "Code for gradient descent"
   ]
  },
  {
   "cell_type": "code",
   "execution_count": null,
   "metadata": {},
   "outputs": [],
   "source": [
    "import scipy.special"
   ]
  },
  {
   "cell_type": "code",
   "execution_count": 34,
   "metadata": {},
   "outputs": [],
   "source": [
    "# regularization parameter\n",
    "alpha = 1"
   ]
  },
  {
   "cell_type": "code",
   "execution_count": 50,
   "metadata": {},
   "outputs": [],
   "source": [
    "\n",
    "# find the expected click rate for each bid\n",
    "# if change the CDF also update dRdb in dLdb(bids,batch)\n",
    "def ExpectedClickRate(bids):\n",
    "    arr = np.zeros(36)\n",
    "    for i in range(36):\n",
    "        s = 0 \n",
    "        for j in range(4):\n",
    "            s += scipy.special.binom(4,j)*click_rates_by_rank[j]*\\\n",
    "                ((np.exp(-bids[i]/lm[i]))**j)*((1 - np.exp(-bids[i]/lm[i]))**(4-j))\n",
    "        arr[i]=s\n",
    "    return arr\n",
    "\n",
    "def ExpectedCost(bids,batch):\n",
    "    clicks = ExpectedClickRate(bids)\n",
    "    s = 0\n",
    "    for a in batch:\n",
    "        # add up bid for each customer times probability to click\n",
    "        s+= bids[a]*clicks[a]\n",
    "    return s\n",
    "\n",
    "        \n",
    "def ExpectedPoliciesSold(bids,batch):\n",
    "    clicks = ExpectedClickRate(bids)\n",
    "    s = 0\n",
    "    for a in batch:\n",
    "        # add up probability to click times probability to buy conditioned on click\n",
    "        s+= p[a]*clicks[a]\n",
    "    return s\n",
    "    \n",
    "# Loss here is log cost per customer acquired. Seek to minimize loss function\n",
    "def Loss(bids,batch):\n",
    "    policies = ExpectedPoliciesSold(bids,batch)\n",
    "    return np.log( ExpectedCost(bids,batch)) - np.log(policies) + alpha*np.log((policies-399)/(policies-400))\n",
    "\n",
    "# calculate the gradient of Loss function\n",
    "# to change CDF need to chance dRdb\n",
    "def dLdb(bids,batch):\n",
    "    clicks = ExpectedClickRate(bids)\n",
    "    cost = ExpectedCost(bids,batch)\n",
    "    policies = ExpectedPoliciesSold(bids,batch)\n",
    "    \n",
    "    # compute gradient of ExpectedClickRate\n",
    "    dRdb = np.zeros(36)\n",
    "    # compute gradient of ExpectedCost\n",
    "    dCdb = np.zeros(36)\n",
    "    # compute gradient of ExpectedPoliciesSold\n",
    "    dPdb = np.zeros(36)\n",
    "    for i in range(36):\n",
    "        s=0\n",
    "        for j in range(4):\n",
    "            s-=click_rates_by_rank[j]*scipy.special.binom(4,j)*\\\n",
    "                ((np.exp(-bids[i]/lm[i]))**j)*((1 - np.exp(-bids[i]/lm[i]))**(4-j))*j/lm[i]\n",
    "            s+= click_rates_by_rank[j]*scipy.special.binom(4,j)*\\\n",
    "                ((np.exp(-bids[i]/lm[i]))**(j+1))*((1 - np.exp(-bids[i]/lm[i]))**(3-j))*(4-j)/lm[i]\n",
    "        # set value of gradient Expected click rate\n",
    "        dRdb[i] = s\n",
    "        \n",
    "        # set value of gradient expected cost\n",
    "        dCdb[i] += clicks[i]\n",
    "        dCdb[i] += b[i]*dRdb[i]\n",
    "        \n",
    "        # set values for gradient expected policies sold\n",
    "        dPdb[i] = p[i]*dRdb[i]\n",
    "    \n",
    "    # now compute the gradience of Loss\n",
    "    arr = np.zeros(36)\n",
    "    for a in batch:\n",
    "        arr[a] += dCdb[a]/cost - dPdb[a]/policies + alpha*dPdb[a]*( 1/(policies - 399) - 1/(policies-400))\n",
    "    return arr"
   ]
  },
  {
   "cell_type": "markdown",
   "metadata": {},
   "source": [
    "# Implement Gradient Descent"
   ]
  },
  {
   "cell_type": "code",
   "execution_count": 61,
   "metadata": {},
   "outputs": [
    {
     "name": "stdout",
     "output_type": "stream",
     "text": [
      "33186\n",
      "Final bids =  [ 3.56257589  3.35884951  3.35425897  5.24338727  4.75797229  3.62246171\n",
      "  4.18048348  3.92284033  2.43818947  5.17724648  3.56229414  3.47165277\n",
      "  5.61536707  4.47473339  5.39200139  5.5257029   2.92871736  4.06460206\n",
      "  5.00247218  4.32947461  4.61715296  3.92223566  3.8728467  10.\n",
      "  4.50710387  4.30823597  5.89008835  6.15270323  5.77435852  5.72756259\n",
      "  4.38297697  3.41778319  6.41802355  3.38583883  6.35701489  4.5984415 ]\n",
      "Cost  4471.745572218199\n",
      "Policies  419.19208247095514\n",
      "Cost per policy  10.667533475010316\n"
     ]
    },
    {
     "data": {
      "image/png": "[encoded data removed]",
      "text/plain": [
       "<Figure size 432x288 with 1 Axes>"
      ]
     },
     "metadata": {
      "needs_background": "light"
     },
     "output_type": "display_data"
    }
   ],
   "source": [
    "# Initialize all bids at $10\n",
    "b=10*np.ones(36)\n",
    "\n",
    "# Number of iterations to do grad descent\n",
    "niterations=int(5*1e4)\n",
    "\n",
    "\n",
    "# Learning rate\n",
    "epsilon=.1\n",
    "\n",
    "m=10000\n",
    "# minimum possible bid\n",
    "min_val = 0.01\n",
    "\n",
    "samples = df[\"class\"].to_numpy()\n",
    "batch = samples #np.random.choice(samples, size=m, replace=True)\n",
    "\n",
    "losses=np.zeros(niterations+1)\n",
    "losses[0]=Loss(b, batch)\n",
    "for i in range(niterations):\n",
    "    # batch = np.random.choice(samples, size=m, replace=True)\n",
    "    grad = dLdb(b, batch)\n",
    "    if sum(np.abs(grad))<.01:\n",
    "        print(i)\n",
    "        break\n",
    "    b = b-epsilon*grad\n",
    "    # set any negative values to min_val\n",
    "    b[b<min_val] = min_val\n",
    "    losses[i+1]=Loss(b,batch)\n",
    "    if ExpectedPoliciesSold(b,batch)<400:\n",
    "        break\n",
    "\n",
    "plt.figure()\n",
    "plt.plot(losses[losses>0])\n",
    "plt.ylabel(\"loss\")\n",
    "plt.xlabel(\"iteration number\")\n",
    "#plt.yscale(\"log\")\n",
    "print(\"Final bids = \",b)\n",
    "print(\"Cost \", ExpectedCost(b,samples))\n",
    "print(\"Policies \", ExpectedPoliciesSold(b,samples))\n",
    "print(\"Cost per policy \", ExpectedCost(b,samples)/ExpectedPoliciesSold(b,samples))"
   ]
  },
  {
   "cell_type": "markdown",
   "metadata": {},
   "source": [
    "# Variance Estimate of the Solution"
   ]
  },
  {
   "cell_type": "markdown",
   "metadata": {},
   "source": [
    "Now that we have optimized the cost per policy sold subject to the constraint that we sell at least 400 policies per 10,000, on average, we want to estimate a confidence percentage that our bid strategy will actually acquire at least 400 customers out of 10,000. \n",
    "\n",
    "To do this we use bootstrapping to repeatedly produce samples of 10,000 customers from the emperical distribution and use this to estimate the standard deviation of policies per 10,000"
   ]
  },
  {
   "cell_type": "code",
   "execution_count": 62,
   "metadata": {},
   "outputs": [
    {
     "name": "stdout",
     "output_type": "stream",
     "text": [
      "Mean:  419.1754571347845\n",
      "St Dev:  4.116781495421123\n"
     ]
    }
   ],
   "source": [
    "niterations=10000\n",
    "arr= np.zeros(niterations)\n",
    "for i in range(niterations):\n",
    "    batch = np.random.choice(samples, size=10000, replace=True)\n",
    "    arr[i] = ExpectedPoliciesSold(b, batch)\n",
    "m = np.mean(arr)\n",
    "s = np.std(arr)\n",
    "print(\"Mean: \", m)\n",
    "print(\"St Dev: \",s)"
   ]
  },
  {
   "cell_type": "markdown",
   "metadata": {},
   "source": [
    "We conclude with high degree of confidence that the true number of customers will be greater than 400."
   ]
  },
  {
   "cell_type": "code",
   "execution_count": 63,
   "metadata": {},
   "outputs": [
    {
     "data": {
      "text/plain": [
       "1.5974438335353494e-06"
      ]
     },
     "execution_count": 63,
     "metadata": {},
     "output_type": "execute_result"
    }
   ],
   "source": [
    "from scipy.stats import norm\n",
    "\n",
    "norm.cdf(400, loc=m,scale=s)"
   ]
  },
  {
   "cell_type": "code",
   "execution_count": null,
   "metadata": {},
   "outputs": [],
   "source": []
  }
 ],
 "metadata": {
  "kernelspec": {
   "display_name": "Python 3",
   "language": "python",
   "name": "python3"
  },
  "language_info": {
   "codemirror_mode": {
    "name": "ipython",
    "version": 3
   },
   "file_extension": ".py",
   "mimetype": "text/x-python",
   "name": "python",
   "nbconvert_exporter": "python",
   "pygments_lexer": "ipython3",
   "version": "3.8.5"
  }
 },
 "nbformat": 4,
 "nbformat_minor": 4
}
