{
 "cells": [
  {
   "cell_type": "code",
   "execution_count": 1,
   "metadata": {},
   "outputs": [],
   "source": [
    "import pandas as pd\n",
    "import numpy as np\n",
    "import matplotlib.pyplot as plt \n",
    "import seaborn as sns"
   ]
  },
  {
   "cell_type": "code",
   "execution_count": 2,
   "metadata": {},
   "outputs": [],
   "source": [
    "df = pd.read_csv(\"./Root_Insurance_data.csv\")"
   ]
  },
  {
   "cell_type": "markdown",
   "metadata": {},
   "source": [
    "In this notebook we implement gradient descent to minimize cost per customer acquired, \n",
    "$$\n",
    "    \\underset {b_i \\geq 0} {\\arg\\,\\min\\,} \\mathcal L(b_1,\\ldots,b_{36}) = \\frac {\\mathbb E[ \\mathrm{Cost} ]}{\\mathbb E[\\# \\mathrm{policies}]}\n",
    "$$\n",
    "with the constraint that the solution acuire at least 400 customers per 10,000."
   ]
  },
  {
   "cell_type": "markdown",
   "metadata": {},
   "source": [
    "If we naively minimize cost per customer acquired without any constraint, all the bids will tend to zero. Indeed, if we bid \\\\$0 on every customer, we'll still hold the 5th (last) ranking for every customer, where we would expect to maintain about 2\\% click-thru rate on average. Of the customers that click, some, about 40\\% on average, will end up buying policies and we will have achieved the absolute minimal cost per customer acquired, ending up with about 80 customers per 10,000."
   ]
  },
  {
   "cell_type": "markdown",
   "metadata": {},
   "source": [
    "To ensure we find a solution which acquires enough customers, we multiply the cost per customer acquired by a barrier function:\n",
    "$$\n",
    "    \\underset {b_i \\geq 0} {\\arg\\,\\min\\,} \\mathcal L(b_1,\\ldots,b_{36}) = \\frac {\\mathbb E[ \\mathrm{Cost} ]}{\\mathbb E[\\# \\mathrm{policies}]} \\bigg( \\frac 1 {\\mathbb E[ \\mathrm{Policies} ] - 400} + 1 \\bigg).\n",
    "$$\n",
    "\n",
    "This forces the loss function to infinity as the number of expected policies tends to 400, and, since the barrier function tends to one for points far enough away from the barrier, it is comparable to the cost per customer which we wish to estimate.\n",
    "\n",
    "Thus, by optimizing the loss function multiplied by a barrier, we will find an efficient solution within the constrained region."
   ]
  },
  {
   "cell_type": "markdown",
   "metadata": {},
   "source": [
    "Finally, we optimize the loss function by running gradient flow on its logarithm, which is equivalent to minimizing the objective function itself."
   ]
  },
  {
   "cell_type": "markdown",
   "metadata": {},
   "source": [
    "# Use Logistic Regression to get the Probabilities of Different Customers to Buy Policies"
   ]
  },
  {
   "cell_type": "markdown",
   "metadata": {},
   "source": [
    "We're estimating the probabilities using only customers who click, so that this estimates the true probability of customers to buy a policy, independent of where our ad was ranked.\n",
    "\n",
    "As we observed in the modeling phase, the variables for unknown insurance status and marital status are not statistically significant, so we will fit the model omiting these variables."
   ]
  },
  {
   "cell_type": "code",
   "execution_count": 3,
   "metadata": {},
   "outputs": [],
   "source": [
    "# create data frame of customers who clicked our ad\n",
    "# we will estimate the probabilities for each customer to buy a policy conditioned on clicking the ad\n",
    "\n",
    "xdf_click = pd.get_dummies(df[\"Currently Insured\"].loc[df.click])[[\"Y\",\"unknown\"]]\n",
    "# rename columns without a space\n",
    "xdf_click.columns = [\"insured\",\"unknown\"]\n",
    "xdf_click[[\"cars2\",\"cars3\"]] = pd.get_dummies(df[\"Number of Vehicles\"].loc[df.click])[[2,3]]\n",
    "xdf_click[[\"drivers2\"]] = pd.get_dummies(df[\"Number of Drivers\"].loc[df.click])[[1]]\n",
    "xdf_click[[\"married\"]] = pd.get_dummies(df[\"Marital Status\"].loc[df.click])[[\"M\"]]\n",
    "xdf_click[[\"policies_sold\"]] = df[[\"policies_sold\"]].loc[df.click].copy()"
   ]
  },
  {
   "cell_type": "code",
   "execution_count": 4,
   "metadata": {},
   "outputs": [],
   "source": [
    "from sklearn.linear_model import LogisticRegression"
   ]
  },
  {
   "cell_type": "code",
   "execution_count": 5,
   "metadata": {},
   "outputs": [
    {
     "data": {
      "text/plain": [
       "LogisticRegression()"
      ]
     },
     "execution_count": 5,
     "metadata": {},
     "output_type": "execute_result"
    }
   ],
   "source": [
    "glm = LogisticRegression()\n",
    "\n",
    "X = xdf_click[[\"insured\",\"cars2\",\"cars3\",\"drivers2\"]].to_numpy()\n",
    "y = xdf_click[\"policies_sold\"].to_numpy()\n",
    "glm.fit(X,y)"
   ]
  },
  {
   "cell_type": "code",
   "execution_count": 6,
   "metadata": {},
   "outputs": [],
   "source": [
    "# number of categories\n",
    "cat = 36\n",
    "# initialize np array for class probabilities\n",
    "p = np.zeros(cat)\n",
    "# create list to remember the numbers\n",
    "ls = pd.DataFrame(columns=[\"insured\",\"cars\",\"drivers\",\"married\"])\n",
    "idx = 0\n",
    "for i in [\"Y\",\"unknown\",\"N\"]:\n",
    "    for c in [1,2,3]:\n",
    "        for d in [1,2]:\n",
    "            for m in [\"M\",\"S\"]:\n",
    "                x = [[ (i==\"Y\"),(c==2),(c==3),(d==2)]]\n",
    "                # get probability for class idx\n",
    "                p[idx] = glm.predict_proba(x)[0,1]\n",
    "                ls = ls.append({\"insured\":i,\"cars\":c,\"drivers\":d,\"married\":m},ignore_index=True)\n",
    "                idx+=1"
   ]
  },
  {
   "cell_type": "markdown",
   "metadata": {},
   "source": [
    "# Get Coefficients for Click-Thru rate by Rank"
   ]
  },
  {
   "cell_type": "code",
   "execution_count": 7,
   "metadata": {},
   "outputs": [],
   "source": [
    "click_rates_by_rank = df.groupby(\"rank\").click.mean().to_numpy()"
   ]
  },
  {
   "cell_type": "markdown",
   "metadata": {},
   "source": [
    "# Gradient Descent for Hybrid Model"
   ]
  },
  {
   "cell_type": "markdown",
   "metadata": {},
   "source": [
    "Here, $\\lambda = 10 \\frac {(\\overline r-1)}{5 - \\overline r}$."
   ]
  },
  {
   "cell_type": "code",
   "execution_count": 8,
   "metadata": {},
   "outputs": [],
   "source": [
    "import scipy"
   ]
  },
  {
   "cell_type": "code",
   "execution_count": 9,
   "metadata": {},
   "outputs": [],
   "source": [
    "lm = np.zeros(36)\n",
    "df[\"class\"]=0\n",
    "idx=0\n",
    "r=0\n",
    "for i in [\"Y\",\"unknown\",\"N\"]:\n",
    "    for c in [1,2,3]:\n",
    "        for d in [1,2]:\n",
    "            for m in [\"M\",\"S\"]:\n",
    "                # get the average rank for class idx\n",
    "                r = df[\"rank\"].loc[(df[\"Marital Status\"]==m)&(df[\"Number of Drivers\"]==d)\\\n",
    "                                 &(df[\"Number of Vehicles\"]==c)&(df[\"Currently Insured\"]==i)].mean()\n",
    "                df.loc[(df[\"Marital Status\"]==m)&(df[\"Number of Drivers\"]==d)\\\n",
    "                                 &(df[\"Number of Vehicles\"]==c)&(df[\"Currently Insured\"]==i),\"class\"] = idx\n",
    "                # there is one class (unknown insurance, single, 3 vehicles, 2 drivers); idx = 24\n",
    "                # that has zero representatives, \n",
    "                # for this one we will use the global average bid\n",
    "                # alternatively we could estimate it with logistic regression\n",
    "                # for now we set it to the average rank=3.1841\n",
    "                if np.isnan(r):\n",
    "                    r = df[\"rank\"].mean()\n",
    "                lm[idx] = 10*(r - 1)/(5-r)\n",
    "                idx+=1"
   ]
  },
  {
   "cell_type": "code",
   "execution_count": 10,
   "metadata": {},
   "outputs": [],
   "source": [
    "# regularization parameter\n",
    "alpha = .65"
   ]
  },
  {
   "cell_type": "code",
   "execution_count": 11,
   "metadata": {},
   "outputs": [],
   "source": [
    "\n",
    "# find the expected click rate for each bid\n",
    "# if change the CDF also update dRdb in dLdb(bids,batch)\n",
    "def ExpectedClickRate(bids):\n",
    "    arr = np.zeros(36)\n",
    "    for i in range(36):\n",
    "        s = 0 \n",
    "        if bids[i]>10:\n",
    "            for j in range(5):\n",
    "                prob = (lm[i]/(10+lm[i]))*np.exp(-(bids[i]-10)/lm[i])\n",
    "                s += scipy.special.binom(4,j)*click_rates_by_rank[j]*(prob**j)*((1-prob)**(4-j))\n",
    "        else:\n",
    "            for j in range(5):\n",
    "                prob = 1 - (bids[i]/10)*10/(10+lm[i])\n",
    "                s += scipy.special.binom(4,j)*click_rates_by_rank[j]*(prob**j)*((1-prob)**(4-j))\n",
    "        arr[i]=s\n",
    "    return arr\n",
    "\n",
    "def ExpectedCost(bids,batch):\n",
    "    clicks = ExpectedClickRate(bids)\n",
    "    s = 0\n",
    "    for a in batch:\n",
    "        # add up bid for each customer times probability to click\n",
    "        s+= bids[a]*clicks[a]\n",
    "    return s\n",
    "\n",
    "        \n",
    "def ExpectedPoliciesSold(bids,batch):\n",
    "    clicks = ExpectedClickRate(bids)\n",
    "    s = 0\n",
    "    for a in batch:\n",
    "        # add up probability to click times probability to buy conditioned on click\n",
    "        s+= p[a]*clicks[a]\n",
    "    return s\n",
    "    \n",
    "# Loss here is log(cost per customer acquired) with constraint to ensure minimum is greater than 400. \n",
    "# Seek to minimize loss function\n",
    "def Loss(bids,batch):\n",
    "    policies = ExpectedPoliciesSold(bids,batch)\n",
    "    return np.log( ExpectedCost(bids,batch)) - np.log(policies) + alpha*np.log((policies-399)/(policies-400))\n",
    "\n",
    "# calculate the gradient of Loss function\n",
    "# to change CDF need to chance dRdb\n",
    "def dLdb(bids,batch):\n",
    "    clicks = ExpectedClickRate(bids)\n",
    "    cost = ExpectedCost(bids,batch)\n",
    "    policies = ExpectedPoliciesSold(bids,batch)\n",
    "    \n",
    "    # compute gradient of ExpectedClickRate\n",
    "    dRdb = np.zeros(36)\n",
    "    # compute gradient of ExpectedCost\n",
    "    dCdb = np.zeros(36)\n",
    "    # compute gradient of ExpectedPoliciesSold\n",
    "    dPdb = np.zeros(36)\n",
    "    for i in range(36):\n",
    "        s=0\n",
    "        if bids[i]>10:\n",
    "            prob = (lm[i]/(10+lm[i]))*np.exp(-(bids[i]-10)/lm[i])\n",
    "            dpdb = -1/(10+lm[i])*np.exp(-(bids[i]-10)/lm[i])\n",
    "        else:\n",
    "            prob = 1 - bids[i]/(10+lm[i])\n",
    "            dpdb = -1/(10+lm[i])\n",
    "        for j in range(5):\n",
    "            s += scipy.special.binom(4,j)*click_rates_by_rank[j]*j*(prob**(j-1))*((1-prob)**(4-j))*dpdb\n",
    "            s -= scipy.special.binom(4,j)*click_rates_by_rank[j]*(prob**j)*((1-prob)**(3-j))*(4-j)*dpdb\n",
    "        \n",
    "        # set value of gradient Expected click rate\n",
    "        dRdb[i] = s\n",
    "        \n",
    "        dCdb[i] += clicks[i]\n",
    "        dCdb[i] += bids[i]*dRdb[i]\n",
    "        \n",
    "        dPdb[i] += p[i]*dRdb[i]\n",
    "        \n",
    "    # now compute the gradient of Loss\n",
    "    arr = np.zeros(36)\n",
    "    for a in batch:\n",
    "        arr[a] += dCdb[a]/cost - dPdb[a]/policies + alpha*dPdb[a]*( 1/(policies - 399) - 1/(policies-400))\n",
    "    return arr"
   ]
  },
  {
   "cell_type": "code",
   "execution_count": 12,
   "metadata": {
    "scrolled": true
   },
   "outputs": [
    {
     "name": "stdout",
     "output_type": "stream",
     "text": [
      "Completed Iteration:  0\n",
      "Completed Iteration:  25000\n",
      "Final bids =  [ 3.27890799  3.85598337  4.80899976  4.84124612  2.24266532  2.55122223\n",
      "  2.5312178   2.65016938  2.06860911  2.25371189  2.83876148  2.83359459\n",
      "  6.86357089  6.90487007  8.09711775  8.08109564  5.01768123  5.05584492\n",
      "  6.2194207   6.17649283  4.32262071  4.26481593  5.30038115 10.\n",
      "  5.17317495  5.34673783  7.45585489  7.47395629  3.84212982  3.6754909\n",
      "  4.74666323  4.59003052  3.5900254   3.37762767  3.80073879  4.00881366]\n",
      "Cost  5586.98149952041\n",
      "Policies  417.8444419144109\n",
      "Cost per policy  13.370960431884406\n"
     ]
    },
    {
     "data": {
      "image/png": "[encoded data removed]",
      "text/plain": [
       "<Figure size 432x288 with 1 Axes>"
      ]
     },
     "metadata": {
      "needs_background": "light"
     },
     "output_type": "display_data"
    },
    {
     "data": {
      "image/png": "[encoded data removed]",
      "text/plain": [
       "<Figure size 432x288 with 1 Axes>"
      ]
     },
     "metadata": {
      "needs_background": "light"
     },
     "output_type": "display_data"
    },
    {
     "data": {
      "image/png": "[encoded data removed]",
      "text/plain": [
       "<Figure size 432x288 with 1 Axes>"
      ]
     },
     "metadata": {
      "needs_background": "light"
     },
     "output_type": "display_data"
    }
   ],
   "source": [
    "# Initialize all bids at $10\n",
    "b=10*np.ones(36)\n",
    "\n",
    "# Number of iterations to do grad descent\n",
    "niterations=int(1e5)\n",
    "\n",
    "\n",
    "# Learning rate\n",
    "epsilon=.1\n",
    "\n",
    "# batch size\n",
    "m=10000\n",
    "# minimum possible bid\n",
    "min_val = 0.01\n",
    "\n",
    "samples = df[\"class\"].to_numpy()\n",
    "batch = samples #np.random.choice(samples, size=m, replace=True)\n",
    "\n",
    "losses=np.zeros(niterations+1)\n",
    "losses[0]=Loss(b, batch)\n",
    "for i in range(niterations):\n",
    "    batch = np.random.choice(samples, size=m, replace=True)\n",
    "    grad = dLdb(b, batch)\n",
    "    if np.sum(np.abs(grad))<0.01:\n",
    "        break\n",
    "    b = b-epsilon*grad\n",
    "    # set any negative values to min_val\n",
    "    b[b<min_val] = min_val\n",
    "    losses[i+1]=Loss(b,samples)\n",
    "    if ExpectedPoliciesSold(b,samples)<400:\n",
    "        break\n",
    "    if i%25000==0:\n",
    "        print(\"Completed Iteration: \", i)\n",
    "        plt.figure()\n",
    "        plt.plot(losses[losses>0])\n",
    "        plt.ylabel(\"loss\")\n",
    "        plt.xlabel(\"iteration number\")\n",
    "\n",
    "plt.figure()\n",
    "plt.plot(losses[losses>0])\n",
    "plt.ylabel(\"loss\")\n",
    "plt.xlabel(\"iteration number\")\n",
    "#plt.yscale(\"log\")\n",
    "print(\"Final bids = \",b)\n",
    "print(\"Cost \", ExpectedCost(b,samples))\n",
    "print(\"Policies \", ExpectedPoliciesSold(b,samples))\n",
    "print(\"Cost per policy \", ExpectedCost(b,samples)/ExpectedPoliciesSold(b,samples))"
   ]
  },
  {
   "cell_type": "markdown",
   "metadata": {},
   "source": [
    "# Variance Estimate of the Solution"
   ]
  },
  {
   "cell_type": "markdown",
   "metadata": {},
   "source": [
    "\n",
    "Now that we have optimized the cost per policy sold subject to the constraint that we sell at least 400 policies per 10,000, on average, we want to estimate a confidence percentage that our bid strategy will actually acquire at least 400 customers out of 10,000. \n",
    "\n",
    "To do this we use bootstrapping to repeatedly produce samples of 10,000 customers from the emperical distribution and use this to estimate the standard deviation of policies per 10,000\n"
   ]
  },
  {
   "cell_type": "code",
   "execution_count": 13,
   "metadata": {},
   "outputs": [
    {
     "name": "stdout",
     "output_type": "stream",
     "text": [
      "Mean:  417.8086078421427\n",
      "St Dev:  3.9167620649066732\n"
     ]
    }
   ],
   "source": [
    "niterations=10000\n",
    "arr= np.zeros(niterations)\n",
    "for i in range(niterations):\n",
    "    batch = np.random.choice(samples, size=10000, replace=True)\n",
    "    arr[i] = ExpectedPoliciesSold(b, batch)\n",
    "m = np.mean(arr)\n",
    "s = np.std(arr)\n",
    "print(\"Mean: \", m)\n",
    "print(\"St Dev: \",s)"
   ]
  },
  {
   "cell_type": "markdown",
   "metadata": {},
   "source": [
    "We conclude with high degree of confidence that the true number of customers will be greater than 400."
   ]
  },
  {
   "cell_type": "code",
   "execution_count": 14,
   "metadata": {},
   "outputs": [
    {
     "data": {
      "text/plain": [
       "2.723801416181584e-06"
      ]
     },
     "execution_count": 14,
     "metadata": {},
     "output_type": "execute_result"
    }
   ],
   "source": [
    "from scipy.stats import norm\n",
    "\n",
    "norm.cdf(400, loc=m,scale=s)"
   ]
  },
  {
   "cell_type": "code",
   "execution_count": 15,
   "metadata": {},
   "outputs": [],
   "source": [
    "# There is one customer class that has no representatives. We set this bid value to NaN\n",
    "b[b==10] = np.NaN\n",
    "ls[\"bid\"] = b\n",
    "ls[\"p\"] = p"
   ]
  },
  {
   "cell_type": "code",
   "execution_count": 16,
   "metadata": {
    "scrolled": true
   },
   "outputs": [
    {
     "data": {
      "text/html": [
       "<div>\n",
       "<style scoped>\n",
       "    .dataframe tbody tr th:only-of-type {\n",
       "        vertical-align: middle;\n",
       "    }\n",
       "\n",
       "    .dataframe tbody tr th {\n",
       "        vertical-align: top;\n",
       "    }\n",
       "\n",
       "    .dataframe thead th {\n",
       "        text-align: right;\n",
       "    }\n",
       "</style>\n",
       "<table border=\"1\" class=\"dataframe\">\n",
       "  <thead>\n",
       "    <tr style=\"text-align: right;\">\n",
       "      <th></th>\n",
       "      <th>insured</th>\n",
       "      <th>cars</th>\n",
       "      <th>drivers</th>\n",
       "      <th>married</th>\n",
       "      <th>bid</th>\n",
       "      <th>p</th>\n",
       "    </tr>\n",
       "  </thead>\n",
       "  <tbody>\n",
       "    <tr>\n",
       "      <th>14</th>\n",
       "      <td>unknown</td>\n",
       "      <td>1</td>\n",
       "      <td>2</td>\n",
       "      <td>M</td>\n",
       "      <td>8.097118</td>\n",
       "      <td>0.531141</td>\n",
       "    </tr>\n",
       "    <tr>\n",
       "      <th>15</th>\n",
       "      <td>unknown</td>\n",
       "      <td>1</td>\n",
       "      <td>2</td>\n",
       "      <td>S</td>\n",
       "      <td>8.081096</td>\n",
       "      <td>0.531141</td>\n",
       "    </tr>\n",
       "    <tr>\n",
       "      <th>27</th>\n",
       "      <td>N</td>\n",
       "      <td>1</td>\n",
       "      <td>2</td>\n",
       "      <td>S</td>\n",
       "      <td>7.473956</td>\n",
       "      <td>0.531141</td>\n",
       "    </tr>\n",
       "    <tr>\n",
       "      <th>26</th>\n",
       "      <td>N</td>\n",
       "      <td>1</td>\n",
       "      <td>2</td>\n",
       "      <td>M</td>\n",
       "      <td>7.455855</td>\n",
       "      <td>0.531141</td>\n",
       "    </tr>\n",
       "    <tr>\n",
       "      <th>13</th>\n",
       "      <td>unknown</td>\n",
       "      <td>1</td>\n",
       "      <td>1</td>\n",
       "      <td>S</td>\n",
       "      <td>6.904870</td>\n",
       "      <td>0.467218</td>\n",
       "    </tr>\n",
       "    <tr>\n",
       "      <th>12</th>\n",
       "      <td>unknown</td>\n",
       "      <td>1</td>\n",
       "      <td>1</td>\n",
       "      <td>M</td>\n",
       "      <td>6.863571</td>\n",
       "      <td>0.467218</td>\n",
       "    </tr>\n",
       "    <tr>\n",
       "      <th>18</th>\n",
       "      <td>unknown</td>\n",
       "      <td>2</td>\n",
       "      <td>2</td>\n",
       "      <td>M</td>\n",
       "      <td>6.219421</td>\n",
       "      <td>0.432213</td>\n",
       "    </tr>\n",
       "    <tr>\n",
       "      <th>19</th>\n",
       "      <td>unknown</td>\n",
       "      <td>2</td>\n",
       "      <td>2</td>\n",
       "      <td>S</td>\n",
       "      <td>6.176493</td>\n",
       "      <td>0.432213</td>\n",
       "    </tr>\n",
       "    <tr>\n",
       "      <th>25</th>\n",
       "      <td>N</td>\n",
       "      <td>1</td>\n",
       "      <td>1</td>\n",
       "      <td>S</td>\n",
       "      <td>5.346738</td>\n",
       "      <td>0.467218</td>\n",
       "    </tr>\n",
       "    <tr>\n",
       "      <th>22</th>\n",
       "      <td>unknown</td>\n",
       "      <td>3</td>\n",
       "      <td>2</td>\n",
       "      <td>M</td>\n",
       "      <td>5.300381</td>\n",
       "      <td>0.415588</td>\n",
       "    </tr>\n",
       "    <tr>\n",
       "      <th>24</th>\n",
       "      <td>N</td>\n",
       "      <td>1</td>\n",
       "      <td>1</td>\n",
       "      <td>M</td>\n",
       "      <td>5.173175</td>\n",
       "      <td>0.467218</td>\n",
       "    </tr>\n",
       "    <tr>\n",
       "      <th>17</th>\n",
       "      <td>unknown</td>\n",
       "      <td>2</td>\n",
       "      <td>1</td>\n",
       "      <td>S</td>\n",
       "      <td>5.055845</td>\n",
       "      <td>0.370780</td>\n",
       "    </tr>\n",
       "    <tr>\n",
       "      <th>16</th>\n",
       "      <td>unknown</td>\n",
       "      <td>2</td>\n",
       "      <td>1</td>\n",
       "      <td>M</td>\n",
       "      <td>5.017681</td>\n",
       "      <td>0.370780</td>\n",
       "    </tr>\n",
       "    <tr>\n",
       "      <th>3</th>\n",
       "      <td>Y</td>\n",
       "      <td>1</td>\n",
       "      <td>2</td>\n",
       "      <td>S</td>\n",
       "      <td>4.841246</td>\n",
       "      <td>0.386995</td>\n",
       "    </tr>\n",
       "    <tr>\n",
       "      <th>2</th>\n",
       "      <td>Y</td>\n",
       "      <td>1</td>\n",
       "      <td>2</td>\n",
       "      <td>M</td>\n",
       "      <td>4.809000</td>\n",
       "      <td>0.386995</td>\n",
       "    </tr>\n",
       "    <tr>\n",
       "      <th>30</th>\n",
       "      <td>N</td>\n",
       "      <td>2</td>\n",
       "      <td>2</td>\n",
       "      <td>M</td>\n",
       "      <td>4.746663</td>\n",
       "      <td>0.432213</td>\n",
       "    </tr>\n",
       "    <tr>\n",
       "      <th>31</th>\n",
       "      <td>N</td>\n",
       "      <td>2</td>\n",
       "      <td>2</td>\n",
       "      <td>S</td>\n",
       "      <td>4.590031</td>\n",
       "      <td>0.432213</td>\n",
       "    </tr>\n",
       "    <tr>\n",
       "      <th>20</th>\n",
       "      <td>unknown</td>\n",
       "      <td>3</td>\n",
       "      <td>1</td>\n",
       "      <td>M</td>\n",
       "      <td>4.322621</td>\n",
       "      <td>0.355041</td>\n",
       "    </tr>\n",
       "    <tr>\n",
       "      <th>21</th>\n",
       "      <td>unknown</td>\n",
       "      <td>3</td>\n",
       "      <td>1</td>\n",
       "      <td>S</td>\n",
       "      <td>4.264816</td>\n",
       "      <td>0.355041</td>\n",
       "    </tr>\n",
       "    <tr>\n",
       "      <th>35</th>\n",
       "      <td>N</td>\n",
       "      <td>3</td>\n",
       "      <td>2</td>\n",
       "      <td>S</td>\n",
       "      <td>4.008814</td>\n",
       "      <td>0.415588</td>\n",
       "    </tr>\n",
       "    <tr>\n",
       "      <th>1</th>\n",
       "      <td>Y</td>\n",
       "      <td>1</td>\n",
       "      <td>1</td>\n",
       "      <td>S</td>\n",
       "      <td>3.855983</td>\n",
       "      <td>0.328273</td>\n",
       "    </tr>\n",
       "    <tr>\n",
       "      <th>28</th>\n",
       "      <td>N</td>\n",
       "      <td>2</td>\n",
       "      <td>1</td>\n",
       "      <td>M</td>\n",
       "      <td>3.842130</td>\n",
       "      <td>0.370780</td>\n",
       "    </tr>\n",
       "    <tr>\n",
       "      <th>34</th>\n",
       "      <td>N</td>\n",
       "      <td>3</td>\n",
       "      <td>2</td>\n",
       "      <td>M</td>\n",
       "      <td>3.800739</td>\n",
       "      <td>0.415588</td>\n",
       "    </tr>\n",
       "    <tr>\n",
       "      <th>29</th>\n",
       "      <td>N</td>\n",
       "      <td>2</td>\n",
       "      <td>1</td>\n",
       "      <td>S</td>\n",
       "      <td>3.675491</td>\n",
       "      <td>0.370780</td>\n",
       "    </tr>\n",
       "    <tr>\n",
       "      <th>32</th>\n",
       "      <td>N</td>\n",
       "      <td>3</td>\n",
       "      <td>1</td>\n",
       "      <td>M</td>\n",
       "      <td>3.590025</td>\n",
       "      <td>0.355041</td>\n",
       "    </tr>\n",
       "    <tr>\n",
       "      <th>33</th>\n",
       "      <td>N</td>\n",
       "      <td>3</td>\n",
       "      <td>1</td>\n",
       "      <td>S</td>\n",
       "      <td>3.377628</td>\n",
       "      <td>0.355041</td>\n",
       "    </tr>\n",
       "    <tr>\n",
       "      <th>0</th>\n",
       "      <td>Y</td>\n",
       "      <td>1</td>\n",
       "      <td>1</td>\n",
       "      <td>M</td>\n",
       "      <td>3.278908</td>\n",
       "      <td>0.328273</td>\n",
       "    </tr>\n",
       "    <tr>\n",
       "      <th>10</th>\n",
       "      <td>Y</td>\n",
       "      <td>3</td>\n",
       "      <td>2</td>\n",
       "      <td>M</td>\n",
       "      <td>2.838761</td>\n",
       "      <td>0.283818</td>\n",
       "    </tr>\n",
       "    <tr>\n",
       "      <th>11</th>\n",
       "      <td>Y</td>\n",
       "      <td>3</td>\n",
       "      <td>2</td>\n",
       "      <td>S</td>\n",
       "      <td>2.833595</td>\n",
       "      <td>0.283818</td>\n",
       "    </tr>\n",
       "    <tr>\n",
       "      <th>7</th>\n",
       "      <td>Y</td>\n",
       "      <td>2</td>\n",
       "      <td>2</td>\n",
       "      <td>S</td>\n",
       "      <td>2.650169</td>\n",
       "      <td>0.297859</td>\n",
       "    </tr>\n",
       "    <tr>\n",
       "      <th>5</th>\n",
       "      <td>Y</td>\n",
       "      <td>2</td>\n",
       "      <td>1</td>\n",
       "      <td>S</td>\n",
       "      <td>2.551222</td>\n",
       "      <td>0.247208</td>\n",
       "    </tr>\n",
       "    <tr>\n",
       "      <th>6</th>\n",
       "      <td>Y</td>\n",
       "      <td>2</td>\n",
       "      <td>2</td>\n",
       "      <td>M</td>\n",
       "      <td>2.531218</td>\n",
       "      <td>0.297859</td>\n",
       "    </tr>\n",
       "    <tr>\n",
       "      <th>9</th>\n",
       "      <td>Y</td>\n",
       "      <td>3</td>\n",
       "      <td>1</td>\n",
       "      <td>S</td>\n",
       "      <td>2.253712</td>\n",
       "      <td>0.234757</td>\n",
       "    </tr>\n",
       "    <tr>\n",
       "      <th>4</th>\n",
       "      <td>Y</td>\n",
       "      <td>2</td>\n",
       "      <td>1</td>\n",
       "      <td>M</td>\n",
       "      <td>2.242665</td>\n",
       "      <td>0.247208</td>\n",
       "    </tr>\n",
       "    <tr>\n",
       "      <th>8</th>\n",
       "      <td>Y</td>\n",
       "      <td>3</td>\n",
       "      <td>1</td>\n",
       "      <td>M</td>\n",
       "      <td>2.068609</td>\n",
       "      <td>0.234757</td>\n",
       "    </tr>\n",
       "    <tr>\n",
       "      <th>23</th>\n",
       "      <td>unknown</td>\n",
       "      <td>3</td>\n",
       "      <td>2</td>\n",
       "      <td>S</td>\n",
       "      <td>NaN</td>\n",
       "      <td>0.415588</td>\n",
       "    </tr>\n",
       "  </tbody>\n",
       "</table>\n",
       "</div>"
      ],
      "text/plain": [
       "    insured cars drivers married       bid         p\n",
       "14  unknown    1       2       M  8.097118  0.531141\n",
       "15  unknown    1       2       S  8.081096  0.531141\n",
       "27        N    1       2       S  7.473956  0.531141\n",
       "26        N    1       2       M  7.455855  0.531141\n",
       "13  unknown    1       1       S  6.904870  0.467218\n",
       "12  unknown    1       1       M  6.863571  0.467218\n",
       "18  unknown    2       2       M  6.219421  0.432213\n",
       "19  unknown    2       2       S  6.176493  0.432213\n",
       "25        N    1       1       S  5.346738  0.467218\n",
       "22  unknown    3       2       M  5.300381  0.415588\n",
       "24        N    1       1       M  5.173175  0.467218\n",
       "17  unknown    2       1       S  5.055845  0.370780\n",
       "16  unknown    2       1       M  5.017681  0.370780\n",
       "3         Y    1       2       S  4.841246  0.386995\n",
       "2         Y    1       2       M  4.809000  0.386995\n",
       "30        N    2       2       M  4.746663  0.432213\n",
       "31        N    2       2       S  4.590031  0.432213\n",
       "20  unknown    3       1       M  4.322621  0.355041\n",
       "21  unknown    3       1       S  4.264816  0.355041\n",
       "35        N    3       2       S  4.008814  0.415588\n",
       "1         Y    1       1       S  3.855983  0.328273\n",
       "28        N    2       1       M  3.842130  0.370780\n",
       "34        N    3       2       M  3.800739  0.415588\n",
       "29        N    2       1       S  3.675491  0.370780\n",
       "32        N    3       1       M  3.590025  0.355041\n",
       "33        N    3       1       S  3.377628  0.355041\n",
       "0         Y    1       1       M  3.278908  0.328273\n",
       "10        Y    3       2       M  2.838761  0.283818\n",
       "11        Y    3       2       S  2.833595  0.283818\n",
       "7         Y    2       2       S  2.650169  0.297859\n",
       "5         Y    2       1       S  2.551222  0.247208\n",
       "6         Y    2       2       M  2.531218  0.297859\n",
       "9         Y    3       1       S  2.253712  0.234757\n",
       "4         Y    2       1       M  2.242665  0.247208\n",
       "8         Y    3       1       M  2.068609  0.234757\n",
       "23  unknown    3       2       S       NaN  0.415588"
      ]
     },
     "execution_count": 16,
     "metadata": {},
     "output_type": "execute_result"
    }
   ],
   "source": [
    "ls1 = ls.sort_values(\"bid\",ascending=False)\n",
    "ls1"
   ]
  },
  {
   "cell_type": "code",
   "execution_count": 19,
   "metadata": {},
   "outputs": [],
   "source": [
    "ls1.to_csv(\"Gradient_Descent_Bids.csv\")"
   ]
  },
  {
   "cell_type": "code",
   "execution_count": 20,
   "metadata": {},
   "outputs": [
    {
     "name": "stdout",
     "output_type": "stream",
     "text": [
      "                            OLS Regression Results                            \n",
      "==============================================================================\n",
      "Dep. Variable:                    bid   R-squared:                       0.957\n",
      "Model:                            OLS   Adj. R-squared:                  0.948\n",
      "Method:                 Least Squares   F-statistic:                     104.2\n",
      "Date:                Fri, 28 May 2021   Prob (F-statistic):           7.82e-18\n",
      "Time:                        19:31:54   Log-Likelihood:                -13.185\n",
      "No. Observations:                  35   AIC:                             40.37\n",
      "Df Residuals:                      28   BIC:                             51.26\n",
      "Df Model:                           6                                         \n",
      "Covariance Type:            nonrobust                                         \n",
      "===================================================================================\n",
      "                      coef    std err          t      P>|t|      [0.025      0.975]\n",
      "-----------------------------------------------------------------------------------\n",
      "const               1.7268      0.025     68.891      0.000       1.675       1.778\n",
      "insured_N           0.7276      0.094      7.748      0.000       0.535       0.920\n",
      "insured_Y          -0.9662      0.094    -10.289      0.000      -1.159      -0.774\n",
      "insured_unknown     1.9653      0.097     20.295      0.000       1.767       2.164\n",
      "cars_1              1.9860      0.094     21.148      0.000       1.794       2.178\n",
      "cars_2              0.0791      0.094      0.843      0.407      -0.113       0.271\n",
      "cars_3             -0.3383      0.097     -3.494      0.002      -0.537      -0.140\n",
      "drivers_1           0.3523      0.068      5.212      0.000       0.214       0.491\n",
      "drivers_2           1.3745      0.068     20.090      0.000       1.234       1.515\n",
      "married_M           0.8252      0.068     12.209      0.000       0.687       0.964\n",
      "married_S           0.9015      0.068     13.177      0.000       0.761       1.042\n",
      "==============================================================================\n",
      "Omnibus:                        0.925   Durbin-Watson:                   1.723\n",
      "Prob(Omnibus):                  0.630   Jarque-Bera (JB):                0.868\n",
      "Skew:                           0.351   Prob(JB):                        0.648\n",
      "Kurtosis:                       2.682   Cond. No.                     5.57e+16\n",
      "==============================================================================\n",
      "\n",
      "Notes:\n",
      "[1] Standard Errors assume that the covariance matrix of the errors is correctly specified.\n",
      "[2] The smallest eigenvalue is 3.01e-32. This might indicate that there are\n",
      "strong multicollinearity problems or that the design matrix is singular.\n"
     ]
    }
   ],
   "source": [
    "import statsmodels.api as sm\n",
    "\n",
    "lm = sm.OLS( ls1[\"bid\"][:-1],sm.add_constant( pd.get_dummies( ls1[[\"insured\",\"cars\",\"drivers\",\"married\"]])[:-1])).fit()\n",
    "print(lm.summary())"
   ]
  },
  {
   "cell_type": "code",
   "execution_count": null,
   "metadata": {},
   "outputs": [],
   "source": []
  }
 ],
 "metadata": {
  "kernelspec": {
   "display_name": "Python 3",
   "language": "python",
   "name": "python3"
  },
  "language_info": {
   "codemirror_mode": {
    "name": "ipython",
    "version": 3
   },
   "file_extension": ".py",
   "mimetype": "text/x-python",
   "name": "python",
   "nbconvert_exporter": "python",
   "pygments_lexer": "ipython3",
   "version": "3.8.5"
  }
 },
 "nbformat": 4,
 "nbformat_minor": 4
}
