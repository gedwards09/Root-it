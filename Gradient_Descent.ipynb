{
 "cells": [
  {
   "cell_type": "code",
   "execution_count": 1,
   "metadata": {},
   "outputs": [],
   "source": [
    "import pandas as pd\n",
    "import numpy as np\n",
    "import matplotlib.pyplot as plt \n",
    "import seaborn as sns"
   ]
  },
  {
   "cell_type": "code",
   "execution_count": 2,
   "metadata": {},
   "outputs": [],
   "source": [
    "df = pd.read_csv(\"./Root_Insurance_data.csv\")"
   ]
  },
  {
   "cell_type": "markdown",
   "metadata": {},
   "source": [
    "In this notebook we implement gradient descent to minimize cost per customer acquired, \n",
    "$$\n",
    "    \\underset {b_i \\geq 0} {\\arg\\,\\min\\,} \\mathcal L(b_1,\\ldots,b_{36}) = \\frac {\\mathbb E[ \\mathrm{Cost} ]}{\\mathbb E[\\# \\mathrm{policies}]}\n",
    "$$\n",
    "with the constraint that the solution acuire at least 400 customers per 10,000."
   ]
  },
  {
   "cell_type": "markdown",
   "metadata": {},
   "source": [
    "If we naively minimize cost per customer acquired without any constraint, all the bids will tend to zero. Indeed, if we bid \\\\$0 on every customer, we'll still hold the 5th (last) ranking for every customer, where we would expect to maintain about 2\\% click-thru rate on average. Of the customers that click, some, about 40\\% on average, will end up buying policies and we will have achieved the absolute minimal cost per customer acquired, ending up with about 80 customers per 10,000."
   ]
  },
  {
   "cell_type": "markdown",
   "metadata": {},
   "source": [
    "To ensure we find a solution which acquires enough customers, we multiply the cost per customer acquired by a barrier function:\n",
    "$$\n",
    "    \\underset {b_i \\geq 0} {\\arg\\,\\min\\,} \\mathcal L(b_1,\\ldots,b_{36}) = \\frac {\\mathbb E[ \\mathrm{Cost} ]}{\\mathbb E[\\# \\mathrm{policies}]} \\bigg( \\frac 1 {\\mathbb E[ \\mathrm{Policies} ] - 400} + 1 \\bigg).\n",
    "$$\n",
    "\n",
    "This forces the loss function to infinity as the number of expected policies tends to 400, and, since the barrier function tends to one for points far enough away from the barrier, it is comparable to the cost per customer which we wish to estimate.\n",
    "\n",
    "Thus, by optimizing the loss function multiplied by a barrier, we will find an efficient solution within the constrained region."
   ]
  },
  {
   "cell_type": "markdown",
   "metadata": {},
   "source": [
    "Finally, we optimize the loss function by running gradient flow on its logarithm, which is equivalent to minimizing the objective function itself."
   ]
  },
  {
   "cell_type": "markdown",
   "metadata": {},
   "source": [
    "# Use Logistic Regression to get the Probabilities of Different Customers to Buy Policies"
   ]
  },
  {
   "cell_type": "markdown",
   "metadata": {},
   "source": [
    "We're estimating the probabilities using only customers who click, so that this estimates the true probability of customers to buy a policy, independent of where our ad was ranked.\n",
    "\n",
    "As we observed in the modeling phase, the variables for unknown insurance status and marital status are not statistically significant, so we will fit the model omiting these variables."
   ]
  },
  {
   "cell_type": "code",
   "execution_count": 3,
   "metadata": {},
   "outputs": [],
   "source": [
    "# create data frame of customers who clicked our ad\n",
    "# we will estimate the probabilities for each customer to buy a policy conditioned on clicking the ad\n",
    "\n",
    "xdf_click = pd.get_dummies(df[\"Currently Insured\"].loc[df.click])[[\"Y\",\"unknown\"]]\n",
    "# rename columns without a space\n",
    "xdf_click.columns = [\"insured\",\"unknown\"]\n",
    "xdf_click[[\"cars2\",\"cars3\"]] = pd.get_dummies(df[\"Number of Vehicles\"].loc[df.click])[[2,3]]\n",
    "xdf_click[[\"drivers2\"]] = pd.get_dummies(df[\"Number of Drivers\"].loc[df.click])[[1]]\n",
    "xdf_click[[\"married\"]] = pd.get_dummies(df[\"Marital Status\"].loc[df.click])[[\"M\"]]\n",
    "xdf_click[[\"policies_sold\"]] = df[[\"policies_sold\"]].loc[df.click].copy()"
   ]
  },
  {
   "cell_type": "code",
   "execution_count": 4,
   "metadata": {},
   "outputs": [],
   "source": [
    "from sklearn.linear_model import LogisticRegression"
   ]
  },
  {
   "cell_type": "code",
   "execution_count": 5,
   "metadata": {},
   "outputs": [
    {
     "data": {
      "text/plain": [
       "LogisticRegression()"
      ]
     },
     "execution_count": 5,
     "metadata": {},
     "output_type": "execute_result"
    }
   ],
   "source": [
    "glm = LogisticRegression()\n",
    "\n",
    "X = xdf_click[[\"insured\",\"cars2\",\"cars3\",\"drivers2\"]].to_numpy()\n",
    "y = xdf_click[\"policies_sold\"].to_numpy()\n",
    "glm.fit(X,y)"
   ]
  },
  {
   "cell_type": "code",
   "execution_count": 6,
   "metadata": {},
   "outputs": [],
   "source": [
    "# number of categories\n",
    "cat = 36\n",
    "# initialize np array for class probabilities\n",
    "p = np.zeros(cat)\n",
    "# create list to remember the numbers\n",
    "ls = pd.DataFrame(columns=[\"insured\",\"cars\",\"drivers\",\"married\"])\n",
    "idx = 0\n",
    "for i in [\"Y\",\"unknown\",\"N\"]:\n",
    "    for c in [1,2,3]:\n",
    "        for d in [1,2]:\n",
    "            for m in [\"M\",\"S\"]:\n",
    "                x = [[ (i==\"Y\"),(c==2),(c==3),(d==2)]]\n",
    "                # get probability for class idx\n",
    "                p[idx] = glm.predict_proba(x)[0,1]\n",
    "                ls = ls.append({\"insured\":i,\"cars\":c,\"drivers\":d,\"married\":m},ignore_index=True)\n",
    "                idx+=1"
   ]
  },
  {
   "cell_type": "markdown",
   "metadata": {},
   "source": [
    "# Get Coefficients for Click-Thru rate by Rank"
   ]
  },
  {
   "cell_type": "code",
   "execution_count": 7,
   "metadata": {},
   "outputs": [],
   "source": [
    "click_rates_by_rank = df.groupby(\"rank\").click.mean().to_numpy()"
   ]
  },
  {
   "cell_type": "markdown",
   "metadata": {},
   "source": [
    "# Gradient Descent for Hybrid Model"
   ]
  },
  {
   "cell_type": "markdown",
   "metadata": {},
   "source": [
    "Here, $\\lambda = 10 \\frac {(\\overline r-1)}{5 - \\overline r}$."
   ]
  },
  {
   "cell_type": "code",
   "execution_count": 8,
   "metadata": {},
   "outputs": [],
   "source": [
    "import scipy"
   ]
  },
  {
   "cell_type": "code",
   "execution_count": 9,
   "metadata": {},
   "outputs": [],
   "source": [
    "lm = np.zeros(36)\n",
    "df[\"class\"]=0\n",
    "idx=0\n",
    "r=0\n",
    "for i in [\"Y\",\"unknown\",\"N\"]:\n",
    "    for c in [1,2,3]:\n",
    "        for d in [1,2]:\n",
    "            for m in [\"M\",\"S\"]:\n",
    "                # get the average rank for class idx\n",
    "                r = df[\"rank\"].loc[(df[\"Marital Status\"]==m)&(df[\"Number of Drivers\"]==d)\\\n",
    "                                 &(df[\"Number of Vehicles\"]==c)&(df[\"Currently Insured\"]==i)].mean()\n",
    "                df.loc[(df[\"Marital Status\"]==m)&(df[\"Number of Drivers\"]==d)\\\n",
    "                                 &(df[\"Number of Vehicles\"]==c)&(df[\"Currently Insured\"]==i),\"class\"] = idx\n",
    "                # there is one class (unknown insurance, single, 3 vehicles, 2 drivers); idx = 24\n",
    "                # that has zero representatives, \n",
    "                # for this one we will use the global average bid\n",
    "                # alternatively we could estimate it with logistic regression\n",
    "                # for now we set it to the average rank=3.1841\n",
    "                if np.isnan(r):\n",
    "                    r = df[\"rank\"].mean()\n",
    "                lm[idx] = 10*(r - 1)/(5-r)\n",
    "                idx+=1"
   ]
  },
  {
   "cell_type": "code",
   "execution_count": 10,
   "metadata": {},
   "outputs": [],
   "source": [
    "# regularization parameter\n",
    "alpha = .65"
   ]
  },
  {
   "cell_type": "code",
   "execution_count": 11,
   "metadata": {},
   "outputs": [],
   "source": [
    "\n",
    "# find the expected click rate for each bid\n",
    "# if change the CDF also update dRdb in dLdb(bids,batch)\n",
    "def ExpectedClickRate(bids):\n",
    "    arr = np.zeros(36)\n",
    "    for i in range(36):\n",
    "        s = 0 \n",
    "        if bids[i]>10:\n",
    "            for j in range(5):\n",
    "                prob = (10/(10+lm[i]))*np.exp(-(bids[i]-10)/lm[i])\n",
    "                s += scipy.special.binom(4,j)*click_rates_by_rank[j]*(prob**j)*((1-prob)**(4-j))\n",
    "        else:\n",
    "            for j in range(5):\n",
    "                prob = 1 - (bids[i]/10)*lm[i]/(10+lm[i])\n",
    "                s += scipy.special.binom(4,j)*click_rates_by_rank[j]*(prob**j)*((1-prob)**(4-j))\n",
    "        arr[i]=s\n",
    "    return arr\n",
    "\n",
    "def ExpectedCost(bids,batch):\n",
    "    clicks = ExpectedClickRate(bids)\n",
    "    s = 0\n",
    "    for a in batch:\n",
    "        # add up bid for each customer times probability to click\n",
    "        s+= bids[a]*clicks[a]\n",
    "    return s\n",
    "\n",
    "        \n",
    "def ExpectedPoliciesSold(bids,batch):\n",
    "    clicks = ExpectedClickRate(bids)\n",
    "    s = 0\n",
    "    for a in batch:\n",
    "        # add up probability to click times probability to buy conditioned on click\n",
    "        s+= p[a]*clicks[a]\n",
    "    return s\n",
    "    \n",
    "# Loss here is log(cost per customer acquired) with constraint to ensure minimum is greater than 400. \n",
    "# Seek to minimize loss function\n",
    "def Loss(bids,batch):\n",
    "    policies = ExpectedPoliciesSold(bids,batch)\n",
    "    return np.log( ExpectedCost(bids,batch)) - np.log(policies) + alpha*np.log((policies-399)/(policies-400))\n",
    "\n",
    "# calculate the gradient of Loss function\n",
    "# to change CDF need to chance dRdb\n",
    "def dLdb(bids,batch):\n",
    "    clicks = ExpectedClickRate(bids)\n",
    "    cost = ExpectedCost(bids,batch)\n",
    "    policies = ExpectedPoliciesSold(bids,batch)\n",
    "    \n",
    "    # compute gradient of ExpectedClickRate\n",
    "    dRdb = np.zeros(36)\n",
    "    # compute gradient of ExpectedCost\n",
    "    dCdb = np.zeros(36)\n",
    "    # compute gradient of ExpectedPoliciesSold\n",
    "    dPdb = np.zeros(36)\n",
    "    for i in range(36):\n",
    "        s=0\n",
    "        if bids[i]>10:\n",
    "            prob = (10/(10+lm[i]))*np.exp(-(bids[i]-10)/lm[i])\n",
    "            dpdb = -(10/(10+lm[i]))*np.exp(-(bids[i]-10)/lm[i])/lm[i]\n",
    "        else:\n",
    "            prob = 1 - lm[i]*(bids[i]/10)/(10+lm[i])\n",
    "            dpdb = -(lm[i]/10)/(10+lm[i])\n",
    "        for j in range(5):\n",
    "            s += scipy.special.binom(4,j)*click_rates_by_rank[j]*j*(prob**(j-1))*((1-prob)**(4-j))*dpdb\n",
    "            s -= scipy.special.binom(4,j)*click_rates_by_rank[j]*(prob**j)*((1-prob)**(3-j))*(4-j)*dpdb\n",
    "        \n",
    "        # set value of gradient Expected click rate\n",
    "        dRdb[i] = s\n",
    "        \n",
    "        dCdb[i] += clicks[i]\n",
    "        dCdb[i] += bids[i]*dRdb[i]\n",
    "        \n",
    "        dPdb[i] += p[i]*dRdb[i]\n",
    "        \n",
    "    # now compute the gradient of Loss\n",
    "    arr = np.zeros(36)\n",
    "    for a in batch:\n",
    "        arr[a] += dCdb[a]/cost - dPdb[a]/policies + alpha*dPdb[a]*( 1/(policies - 399) - 1/(policies-400))\n",
    "    return arr"
   ]
  },
  {
   "cell_type": "code",
   "execution_count": 13,
   "metadata": {
    "scrolled": true
   },
   "outputs": [
    {
     "name": "stdout",
     "output_type": "stream",
     "text": [
      "Completed Iteration:  0\n",
      "Completed Iteration:  25000\n",
      "Completed Iteration:  50000\n",
      "Completed Iteration:  75000\n",
      "Final bids =  [ 4.93282953  4.085679    5.14778366  5.08627294  3.65916874  3.69289731\n",
      "  4.72462013  4.7361893   3.43012093  3.40448908  4.46182447  4.43886313\n",
      "  4.75838885  4.54739603  5.64971172  5.72788212  3.51376229  3.27561537\n",
      "  4.06381598  4.33317088  4.49217156  4.60620918  5.66025112 10.\n",
      "  7.90964     7.76947699  7.71882518  7.69361829  6.37716012  6.31404603\n",
      "  7.0623493   7.19219196  5.97453175  5.94570364  7.29397791  7.29302918]\n",
      "Cost  6415.344341238381\n",
      "Policies  416.88940223085643\n",
      "Cost per policy  15.388600206454335\n"
     ]
    },
    {
     "data": {
      "image/png": "[encoded data removed]",
      "text/plain": [
       "<Figure size 432x288 with 1 Axes>"
      ]
     },
     "metadata": {
      "needs_background": "light"
     },
     "output_type": "display_data"
    },
    {
     "data": {
      "image/png": "[encoded data removed]",
      "text/plain": [
       "<Figure size 432x288 with 1 Axes>"
      ]
     },
     "metadata": {
      "needs_background": "light"
     },
     "output_type": "display_data"
    },
    {
     "data": {
      "image/png": "[encoded data removed]",
      "text/plain": [
       "<Figure size 432x288 with 1 Axes>"
      ]
     },
     "metadata": {
      "needs_background": "light"
     },
     "output_type": "display_data"
    },
    {
     "data": {
      "image/png": "[encoded data removed]",
      "text/plain": [
       "<Figure size 432x288 with 1 Axes>"
      ]
     },
     "metadata": {
      "needs_background": "light"
     },
     "output_type": "display_data"
    },
    {
     "data": {
      "image/png": "[encoded data removed]",
      "text/plain": [
       "<Figure size 432x288 with 1 Axes>"
      ]
     },
     "metadata": {
      "needs_background": "light"
     },
     "output_type": "display_data"
    }
   ],
   "source": [
    "# Initialize all bids at $10\n",
    "b=10*np.ones(36)\n",
    "\n",
    "# Number of iterations to do grad descent\n",
    "niterations=int(1e5)\n",
    "\n",
    "\n",
    "# Learning rate\n",
    "epsilon=.1\n",
    "\n",
    "# batch size\n",
    "m=10000\n",
    "# minimum possible bid\n",
    "min_val = 0.01\n",
    "\n",
    "samples = df[\"class\"].to_numpy()\n",
    "batch = samples #np.random.choice(samples, size=m, replace=True)\n",
    "\n",
    "losses=np.zeros(niterations+1)\n",
    "losses[0]=Loss(b, batch)\n",
    "for i in range(niterations):\n",
    "    batch = np.random.choice(samples, size=m, replace=True)\n",
    "    grad = dLdb(b, batch)\n",
    "    b = b-epsilon*grad\n",
    "    # set any negative values to min_val\n",
    "    b[b<min_val] = min_val\n",
    "    losses[i+1]=Loss(b,samples)\n",
    "    if ExpectedPoliciesSold(b,samples)<400:\n",
    "        break\n",
    "    if i%25000==0:\n",
    "        print(\"Completed Iteration: \", i)\n",
    "        plt.figure()\n",
    "        plt.plot(losses[losses>0])\n",
    "        plt.ylabel(\"loss\")\n",
    "        plt.xlabel(\"iteration number\")\n",
    "\n",
    "plt.figure()\n",
    "plt.plot(losses[losses>0])\n",
    "plt.ylabel(\"loss\")\n",
    "plt.xlabel(\"iteration number\")\n",
    "#plt.yscale(\"log\")\n",
    "print(\"Final bids = \",b)\n",
    "print(\"Cost \", ExpectedCost(b,samples))\n",
    "print(\"Policies \", ExpectedPoliciesSold(b,samples))\n",
    "print(\"Cost per policy \", ExpectedCost(b,samples)/ExpectedPoliciesSold(b,samples))"
   ]
  },
  {
   "cell_type": "markdown",
   "metadata": {},
   "source": [
    "# Variance Estimate of the Solution"
   ]
  },
  {
   "cell_type": "markdown",
   "metadata": {},
   "source": [
    "\n",
    "Now that we have optimized the cost per policy sold subject to the constraint that we sell at least 400 policies per 10,000, on average, we want to estimate a confidence percentage that our bid strategy will actually acquire at least 400 customers out of 10,000. \n",
    "\n",
    "To do this we use bootstrapping to repeatedly produce samples of 10,000 customers from the emperical distribution and use this to estimate the standard deviation of policies per 10,000\n"
   ]
  },
  {
   "cell_type": "code",
   "execution_count": 14,
   "metadata": {},
   "outputs": [
    {
     "name": "stdout",
     "output_type": "stream",
     "text": [
      "Mean:  416.87240361531343\n",
      "St Dev:  2.488629902217756\n"
     ]
    }
   ],
   "source": [
    "niterations=10000\n",
    "arr= np.zeros(niterations)\n",
    "for i in range(niterations):\n",
    "    batch = np.random.choice(samples, size=10000, replace=True)\n",
    "    arr[i] = ExpectedPoliciesSold(b, batch)\n",
    "m = np.mean(arr)\n",
    "s = np.std(arr)\n",
    "print(\"Mean: \", m)\n",
    "print(\"St Dev: \",s)"
   ]
  },
  {
   "cell_type": "markdown",
   "metadata": {},
   "source": [
    "We conclude with high degree of confidence that the true number of customers will be greater than 400."
   ]
  },
  {
   "cell_type": "code",
   "execution_count": 15,
   "metadata": {},
   "outputs": [
    {
     "data": {
      "text/plain": [
       "6.017275206283799e-12"
      ]
     },
     "execution_count": 15,
     "metadata": {},
     "output_type": "execute_result"
    }
   ],
   "source": [
    "from scipy.stats import norm\n",
    "\n",
    "norm.cdf(400, loc=m,scale=s)"
   ]
  },
  {
   "cell_type": "code",
   "execution_count": 16,
   "metadata": {},
   "outputs": [],
   "source": [
    "# There is one customer class that has no representatives. We set this bid value to NaN\n",
    "b[b==10] = np.NaN\n",
    "ls[\"bid\"] = b\n",
    "ls[\"p\"] = p"
   ]
  },
  {
   "cell_type": "code",
   "execution_count": 29,
   "metadata": {
    "scrolled": true
   },
   "outputs": [
    {
     "data": {
      "text/html": [
       "<div>\n",
       "<style scoped>\n",
       "    .dataframe tbody tr th:only-of-type {\n",
       "        vertical-align: middle;\n",
       "    }\n",
       "\n",
       "    .dataframe tbody tr th {\n",
       "        vertical-align: top;\n",
       "    }\n",
       "\n",
       "    .dataframe thead th {\n",
       "        text-align: right;\n",
       "    }\n",
       "</style>\n",
       "<table border=\"1\" class=\"dataframe\">\n",
       "  <thead>\n",
       "    <tr style=\"text-align: right;\">\n",
       "      <th></th>\n",
       "      <th>insured</th>\n",
       "      <th>cars</th>\n",
       "      <th>drivers</th>\n",
       "      <th>married</th>\n",
       "      <th>bid</th>\n",
       "      <th>p</th>\n",
       "    </tr>\n",
       "  </thead>\n",
       "  <tbody>\n",
       "    <tr>\n",
       "      <th>24</th>\n",
       "      <td>N</td>\n",
       "      <td>1</td>\n",
       "      <td>1</td>\n",
       "      <td>M</td>\n",
       "      <td>7.909640</td>\n",
       "      <td>0.467218</td>\n",
       "    </tr>\n",
       "    <tr>\n",
       "      <th>25</th>\n",
       "      <td>N</td>\n",
       "      <td>1</td>\n",
       "      <td>1</td>\n",
       "      <td>S</td>\n",
       "      <td>7.769477</td>\n",
       "      <td>0.467218</td>\n",
       "    </tr>\n",
       "    <tr>\n",
       "      <th>26</th>\n",
       "      <td>N</td>\n",
       "      <td>1</td>\n",
       "      <td>2</td>\n",
       "      <td>M</td>\n",
       "      <td>7.718825</td>\n",
       "      <td>0.531141</td>\n",
       "    </tr>\n",
       "    <tr>\n",
       "      <th>27</th>\n",
       "      <td>N</td>\n",
       "      <td>1</td>\n",
       "      <td>2</td>\n",
       "      <td>S</td>\n",
       "      <td>7.693618</td>\n",
       "      <td>0.531141</td>\n",
       "    </tr>\n",
       "    <tr>\n",
       "      <th>34</th>\n",
       "      <td>N</td>\n",
       "      <td>3</td>\n",
       "      <td>2</td>\n",
       "      <td>M</td>\n",
       "      <td>7.293978</td>\n",
       "      <td>0.415588</td>\n",
       "    </tr>\n",
       "    <tr>\n",
       "      <th>35</th>\n",
       "      <td>N</td>\n",
       "      <td>3</td>\n",
       "      <td>2</td>\n",
       "      <td>S</td>\n",
       "      <td>7.293029</td>\n",
       "      <td>0.415588</td>\n",
       "    </tr>\n",
       "    <tr>\n",
       "      <th>31</th>\n",
       "      <td>N</td>\n",
       "      <td>2</td>\n",
       "      <td>2</td>\n",
       "      <td>S</td>\n",
       "      <td>7.192192</td>\n",
       "      <td>0.432213</td>\n",
       "    </tr>\n",
       "    <tr>\n",
       "      <th>30</th>\n",
       "      <td>N</td>\n",
       "      <td>2</td>\n",
       "      <td>2</td>\n",
       "      <td>M</td>\n",
       "      <td>7.062349</td>\n",
       "      <td>0.432213</td>\n",
       "    </tr>\n",
       "    <tr>\n",
       "      <th>28</th>\n",
       "      <td>N</td>\n",
       "      <td>2</td>\n",
       "      <td>1</td>\n",
       "      <td>M</td>\n",
       "      <td>6.377160</td>\n",
       "      <td>0.370780</td>\n",
       "    </tr>\n",
       "    <tr>\n",
       "      <th>29</th>\n",
       "      <td>N</td>\n",
       "      <td>2</td>\n",
       "      <td>1</td>\n",
       "      <td>S</td>\n",
       "      <td>6.314046</td>\n",
       "      <td>0.370780</td>\n",
       "    </tr>\n",
       "    <tr>\n",
       "      <th>32</th>\n",
       "      <td>N</td>\n",
       "      <td>3</td>\n",
       "      <td>1</td>\n",
       "      <td>M</td>\n",
       "      <td>5.974532</td>\n",
       "      <td>0.355041</td>\n",
       "    </tr>\n",
       "    <tr>\n",
       "      <th>33</th>\n",
       "      <td>N</td>\n",
       "      <td>3</td>\n",
       "      <td>1</td>\n",
       "      <td>S</td>\n",
       "      <td>5.945704</td>\n",
       "      <td>0.355041</td>\n",
       "    </tr>\n",
       "    <tr>\n",
       "      <th>15</th>\n",
       "      <td>unknown</td>\n",
       "      <td>1</td>\n",
       "      <td>2</td>\n",
       "      <td>S</td>\n",
       "      <td>5.727882</td>\n",
       "      <td>0.531141</td>\n",
       "    </tr>\n",
       "    <tr>\n",
       "      <th>22</th>\n",
       "      <td>unknown</td>\n",
       "      <td>3</td>\n",
       "      <td>2</td>\n",
       "      <td>M</td>\n",
       "      <td>5.660251</td>\n",
       "      <td>0.415588</td>\n",
       "    </tr>\n",
       "    <tr>\n",
       "      <th>14</th>\n",
       "      <td>unknown</td>\n",
       "      <td>1</td>\n",
       "      <td>2</td>\n",
       "      <td>M</td>\n",
       "      <td>5.649712</td>\n",
       "      <td>0.531141</td>\n",
       "    </tr>\n",
       "    <tr>\n",
       "      <th>2</th>\n",
       "      <td>Y</td>\n",
       "      <td>1</td>\n",
       "      <td>2</td>\n",
       "      <td>M</td>\n",
       "      <td>5.147784</td>\n",
       "      <td>0.386995</td>\n",
       "    </tr>\n",
       "    <tr>\n",
       "      <th>3</th>\n",
       "      <td>Y</td>\n",
       "      <td>1</td>\n",
       "      <td>2</td>\n",
       "      <td>S</td>\n",
       "      <td>5.086273</td>\n",
       "      <td>0.386995</td>\n",
       "    </tr>\n",
       "    <tr>\n",
       "      <th>0</th>\n",
       "      <td>Y</td>\n",
       "      <td>1</td>\n",
       "      <td>1</td>\n",
       "      <td>M</td>\n",
       "      <td>4.932830</td>\n",
       "      <td>0.328273</td>\n",
       "    </tr>\n",
       "    <tr>\n",
       "      <th>12</th>\n",
       "      <td>unknown</td>\n",
       "      <td>1</td>\n",
       "      <td>1</td>\n",
       "      <td>M</td>\n",
       "      <td>4.758389</td>\n",
       "      <td>0.467218</td>\n",
       "    </tr>\n",
       "    <tr>\n",
       "      <th>7</th>\n",
       "      <td>Y</td>\n",
       "      <td>2</td>\n",
       "      <td>2</td>\n",
       "      <td>S</td>\n",
       "      <td>4.736189</td>\n",
       "      <td>0.297859</td>\n",
       "    </tr>\n",
       "    <tr>\n",
       "      <th>6</th>\n",
       "      <td>Y</td>\n",
       "      <td>2</td>\n",
       "      <td>2</td>\n",
       "      <td>M</td>\n",
       "      <td>4.724620</td>\n",
       "      <td>0.297859</td>\n",
       "    </tr>\n",
       "    <tr>\n",
       "      <th>21</th>\n",
       "      <td>unknown</td>\n",
       "      <td>3</td>\n",
       "      <td>1</td>\n",
       "      <td>S</td>\n",
       "      <td>4.606209</td>\n",
       "      <td>0.355041</td>\n",
       "    </tr>\n",
       "    <tr>\n",
       "      <th>13</th>\n",
       "      <td>unknown</td>\n",
       "      <td>1</td>\n",
       "      <td>1</td>\n",
       "      <td>S</td>\n",
       "      <td>4.547396</td>\n",
       "      <td>0.467218</td>\n",
       "    </tr>\n",
       "    <tr>\n",
       "      <th>20</th>\n",
       "      <td>unknown</td>\n",
       "      <td>3</td>\n",
       "      <td>1</td>\n",
       "      <td>M</td>\n",
       "      <td>4.492172</td>\n",
       "      <td>0.355041</td>\n",
       "    </tr>\n",
       "    <tr>\n",
       "      <th>10</th>\n",
       "      <td>Y</td>\n",
       "      <td>3</td>\n",
       "      <td>2</td>\n",
       "      <td>M</td>\n",
       "      <td>4.461824</td>\n",
       "      <td>0.283818</td>\n",
       "    </tr>\n",
       "    <tr>\n",
       "      <th>11</th>\n",
       "      <td>Y</td>\n",
       "      <td>3</td>\n",
       "      <td>2</td>\n",
       "      <td>S</td>\n",
       "      <td>4.438863</td>\n",
       "      <td>0.283818</td>\n",
       "    </tr>\n",
       "    <tr>\n",
       "      <th>19</th>\n",
       "      <td>unknown</td>\n",
       "      <td>2</td>\n",
       "      <td>2</td>\n",
       "      <td>S</td>\n",
       "      <td>4.333171</td>\n",
       "      <td>0.432213</td>\n",
       "    </tr>\n",
       "    <tr>\n",
       "      <th>1</th>\n",
       "      <td>Y</td>\n",
       "      <td>1</td>\n",
       "      <td>1</td>\n",
       "      <td>S</td>\n",
       "      <td>4.085679</td>\n",
       "      <td>0.328273</td>\n",
       "    </tr>\n",
       "    <tr>\n",
       "      <th>18</th>\n",
       "      <td>unknown</td>\n",
       "      <td>2</td>\n",
       "      <td>2</td>\n",
       "      <td>M</td>\n",
       "      <td>4.063816</td>\n",
       "      <td>0.432213</td>\n",
       "    </tr>\n",
       "    <tr>\n",
       "      <th>5</th>\n",
       "      <td>Y</td>\n",
       "      <td>2</td>\n",
       "      <td>1</td>\n",
       "      <td>S</td>\n",
       "      <td>3.692897</td>\n",
       "      <td>0.247208</td>\n",
       "    </tr>\n",
       "    <tr>\n",
       "      <th>4</th>\n",
       "      <td>Y</td>\n",
       "      <td>2</td>\n",
       "      <td>1</td>\n",
       "      <td>M</td>\n",
       "      <td>3.659169</td>\n",
       "      <td>0.247208</td>\n",
       "    </tr>\n",
       "    <tr>\n",
       "      <th>16</th>\n",
       "      <td>unknown</td>\n",
       "      <td>2</td>\n",
       "      <td>1</td>\n",
       "      <td>M</td>\n",
       "      <td>3.513762</td>\n",
       "      <td>0.370780</td>\n",
       "    </tr>\n",
       "    <tr>\n",
       "      <th>8</th>\n",
       "      <td>Y</td>\n",
       "      <td>3</td>\n",
       "      <td>1</td>\n",
       "      <td>M</td>\n",
       "      <td>3.430121</td>\n",
       "      <td>0.234757</td>\n",
       "    </tr>\n",
       "    <tr>\n",
       "      <th>9</th>\n",
       "      <td>Y</td>\n",
       "      <td>3</td>\n",
       "      <td>1</td>\n",
       "      <td>S</td>\n",
       "      <td>3.404489</td>\n",
       "      <td>0.234757</td>\n",
       "    </tr>\n",
       "    <tr>\n",
       "      <th>17</th>\n",
       "      <td>unknown</td>\n",
       "      <td>2</td>\n",
       "      <td>1</td>\n",
       "      <td>S</td>\n",
       "      <td>3.275615</td>\n",
       "      <td>0.370780</td>\n",
       "    </tr>\n",
       "    <tr>\n",
       "      <th>23</th>\n",
       "      <td>unknown</td>\n",
       "      <td>3</td>\n",
       "      <td>2</td>\n",
       "      <td>S</td>\n",
       "      <td>NaN</td>\n",
       "      <td>0.415588</td>\n",
       "    </tr>\n",
       "  </tbody>\n",
       "</table>\n",
       "</div>"
      ],
      "text/plain": [
       "    insured cars drivers married       bid         p\n",
       "24        N    1       1       M  7.909640  0.467218\n",
       "25        N    1       1       S  7.769477  0.467218\n",
       "26        N    1       2       M  7.718825  0.531141\n",
       "27        N    1       2       S  7.693618  0.531141\n",
       "34        N    3       2       M  7.293978  0.415588\n",
       "35        N    3       2       S  7.293029  0.415588\n",
       "31        N    2       2       S  7.192192  0.432213\n",
       "30        N    2       2       M  7.062349  0.432213\n",
       "28        N    2       1       M  6.377160  0.370780\n",
       "29        N    2       1       S  6.314046  0.370780\n",
       "32        N    3       1       M  5.974532  0.355041\n",
       "33        N    3       1       S  5.945704  0.355041\n",
       "15  unknown    1       2       S  5.727882  0.531141\n",
       "22  unknown    3       2       M  5.660251  0.415588\n",
       "14  unknown    1       2       M  5.649712  0.531141\n",
       "2         Y    1       2       M  5.147784  0.386995\n",
       "3         Y    1       2       S  5.086273  0.386995\n",
       "0         Y    1       1       M  4.932830  0.328273\n",
       "12  unknown    1       1       M  4.758389  0.467218\n",
       "7         Y    2       2       S  4.736189  0.297859\n",
       "6         Y    2       2       M  4.724620  0.297859\n",
       "21  unknown    3       1       S  4.606209  0.355041\n",
       "13  unknown    1       1       S  4.547396  0.467218\n",
       "20  unknown    3       1       M  4.492172  0.355041\n",
       "10        Y    3       2       M  4.461824  0.283818\n",
       "11        Y    3       2       S  4.438863  0.283818\n",
       "19  unknown    2       2       S  4.333171  0.432213\n",
       "1         Y    1       1       S  4.085679  0.328273\n",
       "18  unknown    2       2       M  4.063816  0.432213\n",
       "5         Y    2       1       S  3.692897  0.247208\n",
       "4         Y    2       1       M  3.659169  0.247208\n",
       "16  unknown    2       1       M  3.513762  0.370780\n",
       "8         Y    3       1       M  3.430121  0.234757\n",
       "9         Y    3       1       S  3.404489  0.234757\n",
       "17  unknown    2       1       S  3.275615  0.370780\n",
       "23  unknown    3       2       S       NaN  0.415588"
      ]
     },
     "execution_count": 29,
     "metadata": {},
     "output_type": "execute_result"
    }
   ],
   "source": [
    "ls1 = ls.sort_values(\"bid\",ascending=False)\n",
    "ls1"
   ]
  },
  {
   "cell_type": "code",
   "execution_count": 30,
   "metadata": {},
   "outputs": [],
   "source": [
    "ls1.to_csv(\"Gradient_Descent_Bids.csv\")"
   ]
  },
  {
   "cell_type": "code",
   "execution_count": 28,
   "metadata": {},
   "outputs": [
    {
     "name": "stdout",
     "output_type": "stream",
     "text": [
      "                            OLS Regression Results                            \n",
      "==============================================================================\n",
      "Dep. Variable:                    bid   R-squared:                       0.936\n",
      "Model:                            OLS   Adj. R-squared:                  0.922\n",
      "Method:                 Least Squares   F-statistic:                     67.97\n",
      "Date:                Fri, 28 May 2021   Prob (F-statistic):           2.17e-15\n",
      "Time:                        13:55:40   Log-Likelihood:                -13.865\n",
      "No. Observations:                  35   AIC:                             41.73\n",
      "Df Residuals:                      28   BIC:                             52.62\n",
      "Df Model:                           6                                         \n",
      "Covariance Type:            nonrobust                                         \n",
      "===================================================================================\n",
      "                      coef    std err          t      P>|t|      [0.025      0.975]\n",
      "-----------------------------------------------------------------------------------\n",
      "const               1.9975      0.026     78.161      0.000       1.945       2.050\n",
      "insured_N           2.3845      0.096     24.904      0.000       2.188       2.581\n",
      "insured_Y          -0.3441      0.096     -3.594      0.001      -0.540      -0.148\n",
      "insured_unknown    -0.0429      0.099     -0.435      0.667      -0.245       0.159\n",
      "cars_1              1.2581      0.096     13.140      0.000       1.062       1.454\n",
      "cars_2              0.2512      0.096      2.624      0.014       0.055       0.447\n",
      "cars_3              0.4882      0.099      4.944      0.000       0.286       0.690\n",
      "drivers_1           0.5993      0.069      8.695      0.000       0.458       0.740\n",
      "drivers_2           1.3983      0.070     20.045      0.000       1.255       1.541\n",
      "married_M           1.0516      0.069     15.258      0.000       0.910       1.193\n",
      "married_S           0.9459      0.070     13.561      0.000       0.803       1.089\n",
      "==============================================================================\n",
      "Omnibus:                        2.253   Durbin-Watson:                   1.398\n",
      "Prob(Omnibus):                  0.324   Jarque-Bera (JB):                1.696\n",
      "Skew:                           0.359   Prob(JB):                        0.428\n",
      "Kurtosis:                       2.195   Cond. No.                     1.79e+17\n",
      "==============================================================================\n",
      "\n",
      "Notes:\n",
      "[1] Standard Errors assume that the covariance matrix of the errors is correctly specified.\n",
      "[2] The smallest eigenvalue is 2.92e-33. This might indicate that there are\n",
      "strong multicollinearity problems or that the design matrix is singular.\n"
     ]
    }
   ],
   "source": [
    "import statsmodels.api as sm\n",
    "\n",
    "lm = sm.OLS( ls1[\"bid\"][:-1],sm.add_constant( pd.get_dummies( ls1[[\"insured\",\"cars\",\"drivers\",\"married\"]])[:-1])).fit()\n",
    "print(lm.summary())"
   ]
  },
  {
   "cell_type": "code",
   "execution_count": null,
   "metadata": {},
   "outputs": [],
   "source": []
  }
 ],
 "metadata": {
  "kernelspec": {
   "display_name": "Python 3",
   "language": "python",
   "name": "python3"
  },
  "language_info": {
   "codemirror_mode": {
    "name": "ipython",
    "version": 3
   },
   "file_extension": ".py",
   "mimetype": "text/x-python",
   "name": "python",
   "nbconvert_exporter": "python",
   "pygments_lexer": "ipython3",
   "version": "3.8.5"
  }
 },
 "nbformat": 4,
 "nbformat_minor": 4
}
